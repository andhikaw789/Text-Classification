{
  "cells": [
    {
      "cell_type": "code",
      "source": [
        "!pip install cleantext"
      ],
      "metadata": {
        "colab": {
          "base_uri": "https://localhost:8080/"
        },
        "id": "2r91BVNjTYmN",
        "outputId": "a1d7d2ae-0656-4ae4-e6a2-d18acbca4951"
      },
      "id": "2r91BVNjTYmN",
      "execution_count": 1,
      "outputs": [
        {
          "output_type": "stream",
          "name": "stdout",
          "text": [
            "Collecting cleantext\n",
            "  Downloading cleantext-1.1.4-py3-none-any.whl (4.9 kB)\n",
            "Requirement already satisfied: nltk in /usr/local/lib/python3.10/dist-packages (from cleantext) (3.8.1)\n",
            "Requirement already satisfied: click in /usr/local/lib/python3.10/dist-packages (from nltk->cleantext) (8.1.7)\n",
            "Requirement already satisfied: joblib in /usr/local/lib/python3.10/dist-packages (from nltk->cleantext) (1.3.2)\n",
            "Requirement already satisfied: regex>=2021.8.3 in /usr/local/lib/python3.10/dist-packages (from nltk->cleantext) (2023.6.3)\n",
            "Requirement already satisfied: tqdm in /usr/local/lib/python3.10/dist-packages (from nltk->cleantext) (4.66.1)\n",
            "Installing collected packages: cleantext\n",
            "Successfully installed cleantext-1.1.4\n"
          ]
        }
      ]
    },
    {
      "cell_type": "code",
      "source": [
        "!pip install nlp_id"
      ],
      "metadata": {
        "colab": {
          "base_uri": "https://localhost:8080/"
        },
        "id": "4uBCXO5dTYoz",
        "outputId": "ddb21a23-3337-4b52-9dbd-b5b1dc168e5f"
      },
      "id": "4uBCXO5dTYoz",
      "execution_count": 2,
      "outputs": [
        {
          "output_type": "stream",
          "name": "stdout",
          "text": [
            "Collecting nlp_id\n",
            "  Downloading nlp_id-0.1.15.0.tar.gz (54.8 MB)\n",
            "\u001b[2K     \u001b[90m━━━━━━━━━━━━━━━━━━━━━━━━━━━━━━━━━━━━━━━━\u001b[0m \u001b[32m54.8/54.8 MB\u001b[0m \u001b[31m16.8 MB/s\u001b[0m eta \u001b[36m0:00:00\u001b[0m\n",
            "\u001b[?25h  Preparing metadata (setup.py) ... \u001b[?25l\u001b[?25hdone\n",
            "Requirement already satisfied: scikit-learn==1.2.2 in /usr/local/lib/python3.10/dist-packages (from nlp_id) (1.2.2)\n",
            "Requirement already satisfied: nltk==3.8.1 in /usr/local/lib/python3.10/dist-packages (from nlp_id) (3.8.1)\n",
            "Collecting wget==3.2 (from nlp_id)\n",
            "  Downloading wget-3.2.zip (10 kB)\n",
            "  Preparing metadata (setup.py) ... \u001b[?25l\u001b[?25hdone\n",
            "Collecting pytest==7.3.1 (from nlp_id)\n",
            "  Downloading pytest-7.3.1-py3-none-any.whl (320 kB)\n",
            "\u001b[2K     \u001b[90m━━━━━━━━━━━━━━━━━━━━━━━━━━━━━━━━━━━━━━━━\u001b[0m \u001b[32m320.5/320.5 kB\u001b[0m \u001b[31m16.2 MB/s\u001b[0m eta \u001b[36m0:00:00\u001b[0m\n",
            "\u001b[?25hRequirement already satisfied: click in /usr/local/lib/python3.10/dist-packages (from nltk==3.8.1->nlp_id) (8.1.7)\n",
            "Requirement already satisfied: joblib in /usr/local/lib/python3.10/dist-packages (from nltk==3.8.1->nlp_id) (1.3.2)\n",
            "Requirement already satisfied: regex>=2021.8.3 in /usr/local/lib/python3.10/dist-packages (from nltk==3.8.1->nlp_id) (2023.6.3)\n",
            "Requirement already satisfied: tqdm in /usr/local/lib/python3.10/dist-packages (from nltk==3.8.1->nlp_id) (4.66.1)\n",
            "Requirement already satisfied: iniconfig in /usr/local/lib/python3.10/dist-packages (from pytest==7.3.1->nlp_id) (2.0.0)\n",
            "Requirement already satisfied: packaging in /usr/local/lib/python3.10/dist-packages (from pytest==7.3.1->nlp_id) (23.2)\n",
            "Requirement already satisfied: pluggy<2.0,>=0.12 in /usr/local/lib/python3.10/dist-packages (from pytest==7.3.1->nlp_id) (1.3.0)\n",
            "Requirement already satisfied: exceptiongroup>=1.0.0rc8 in /usr/local/lib/python3.10/dist-packages (from pytest==7.3.1->nlp_id) (1.2.0)\n",
            "Requirement already satisfied: tomli>=1.0.0 in /usr/local/lib/python3.10/dist-packages (from pytest==7.3.1->nlp_id) (2.0.1)\n",
            "Requirement already satisfied: numpy>=1.17.3 in /usr/local/lib/python3.10/dist-packages (from scikit-learn==1.2.2->nlp_id) (1.23.5)\n",
            "Requirement already satisfied: scipy>=1.3.2 in /usr/local/lib/python3.10/dist-packages (from scikit-learn==1.2.2->nlp_id) (1.11.4)\n",
            "Requirement already satisfied: threadpoolctl>=2.0.0 in /usr/local/lib/python3.10/dist-packages (from scikit-learn==1.2.2->nlp_id) (3.2.0)\n",
            "Building wheels for collected packages: nlp_id, wget\n",
            "  Building wheel for nlp_id (setup.py) ... \u001b[?25l\u001b[?25hdone\n",
            "  Created wheel for nlp_id: filename=nlp_id-0.1.15.0-py3-none-any.whl size=58153891 sha256=44da1b83de5566a1d1c75a3b6f1bc4aff12a6393662276c7998aa8555a22fd19\n",
            "  Stored in directory: /root/.cache/pip/wheels/85/34/2a/deaf7b7896a1eed336b874e1a7732588d40bb7bdc0a824e73e\n",
            "  Building wheel for wget (setup.py) ... \u001b[?25l\u001b[?25hdone\n",
            "  Created wheel for wget: filename=wget-3.2-py3-none-any.whl size=9655 sha256=a5f751a26f293346b2c789b5ef6f6560e43a434006f1fd9fff4e5d38a6c64e8d\n",
            "  Stored in directory: /root/.cache/pip/wheels/8b/f1/7f/5c94f0a7a505ca1c81cd1d9208ae2064675d97582078e6c769\n",
            "Successfully built nlp_id wget\n",
            "Installing collected packages: wget, pytest, nlp_id\n",
            "  Attempting uninstall: pytest\n",
            "    Found existing installation: pytest 7.4.3\n",
            "    Uninstalling pytest-7.4.3:\n",
            "      Successfully uninstalled pytest-7.4.3\n",
            "Successfully installed nlp_id-0.1.15.0 pytest-7.3.1 wget-3.2\n"
          ]
        }
      ]
    },
    {
      "cell_type": "code",
      "source": [
        "!pip install langdetect"
      ],
      "metadata": {
        "colab": {
          "base_uri": "https://localhost:8080/"
        },
        "id": "v8mSECeMTYsY",
        "outputId": "31fc6600-9ef4-4a6f-f970-128dd7c59fcb"
      },
      "id": "v8mSECeMTYsY",
      "execution_count": 3,
      "outputs": [
        {
          "output_type": "stream",
          "name": "stdout",
          "text": [
            "Collecting langdetect\n",
            "  Downloading langdetect-1.0.9.tar.gz (981 kB)\n",
            "\u001b[?25l     \u001b[90m━━━━━━━━━━━━━━━━━━━━━━━━━━━━━━━━━━━━━━━━\u001b[0m \u001b[32m0.0/981.5 kB\u001b[0m \u001b[31m?\u001b[0m eta \u001b[36m-:--:--\u001b[0m\r\u001b[2K     \u001b[91m━━━\u001b[0m\u001b[91m╸\u001b[0m\u001b[90m━━━━━━━━━━━━━━━━━━━━━━━━━━━━━━━━━━━━\u001b[0m \u001b[32m92.2/981.5 kB\u001b[0m \u001b[31m3.0 MB/s\u001b[0m eta \u001b[36m0:00:01\u001b[0m\r\u001b[2K     \u001b[91m━━━━━━━━━━━━━━━\u001b[0m\u001b[90m╺\u001b[0m\u001b[90m━━━━━━━━━━━━━━━━━━━━━━━━\u001b[0m \u001b[32m378.9/981.5 kB\u001b[0m \u001b[31m5.7 MB/s\u001b[0m eta \u001b[36m0:00:01\u001b[0m\r\u001b[2K     \u001b[91m━━━━━━━━━━━━━━━━━━━━━━━━━━━━━━\u001b[0m\u001b[90m╺\u001b[0m\u001b[90m━━━━━━━━━\u001b[0m \u001b[32m737.3/981.5 kB\u001b[0m \u001b[31m7.1 MB/s\u001b[0m eta \u001b[36m0:00:01\u001b[0m\r\u001b[2K     \u001b[90m━━━━━━━━━━━━━━━━━━━━━━━━━━━━━━━━━━━━━━━━\u001b[0m \u001b[32m981.5/981.5 kB\u001b[0m \u001b[31m7.4 MB/s\u001b[0m eta \u001b[36m0:00:00\u001b[0m\n",
            "\u001b[?25h  Preparing metadata (setup.py) ... \u001b[?25l\u001b[?25hdone\n",
            "Requirement already satisfied: six in /usr/local/lib/python3.10/dist-packages (from langdetect) (1.16.0)\n",
            "Building wheels for collected packages: langdetect\n",
            "  Building wheel for langdetect (setup.py) ... \u001b[?25l\u001b[?25hdone\n",
            "  Created wheel for langdetect: filename=langdetect-1.0.9-py3-none-any.whl size=993225 sha256=171e1767669624db26db83fa3c9ac17bcd9d011358331cb947205f5e826648b5\n",
            "  Stored in directory: /root/.cache/pip/wheels/95/03/7d/59ea870c70ce4e5a370638b5462a7711ab78fba2f655d05106\n",
            "Successfully built langdetect\n",
            "Installing collected packages: langdetect\n",
            "Successfully installed langdetect-1.0.9\n"
          ]
        }
      ]
    },
    {
      "cell_type": "code",
      "source": [
        "!pip install datasets"
      ],
      "metadata": {
        "colab": {
          "base_uri": "https://localhost:8080/"
        },
        "id": "yq0jnlytUQr6",
        "outputId": "92c40d92-f4eb-4f55-8842-0c0924c2e35a"
      },
      "id": "yq0jnlytUQr6",
      "execution_count": 4,
      "outputs": [
        {
          "output_type": "stream",
          "name": "stdout",
          "text": [
            "Collecting datasets\n",
            "  Downloading datasets-2.15.0-py3-none-any.whl (521 kB)\n",
            "\u001b[2K     \u001b[90m━━━━━━━━━━━━━━━━━━━━━━━━━━━━━━━━━━━━━━━━\u001b[0m \u001b[32m521.2/521.2 kB\u001b[0m \u001b[31m6.3 MB/s\u001b[0m eta \u001b[36m0:00:00\u001b[0m\n",
            "\u001b[?25hRequirement already satisfied: numpy>=1.17 in /usr/local/lib/python3.10/dist-packages (from datasets) (1.23.5)\n",
            "Requirement already satisfied: pyarrow>=8.0.0 in /usr/local/lib/python3.10/dist-packages (from datasets) (9.0.0)\n",
            "Collecting pyarrow-hotfix (from datasets)\n",
            "  Downloading pyarrow_hotfix-0.6-py3-none-any.whl (7.9 kB)\n",
            "Collecting dill<0.3.8,>=0.3.0 (from datasets)\n",
            "  Downloading dill-0.3.7-py3-none-any.whl (115 kB)\n",
            "\u001b[2K     \u001b[90m━━━━━━━━━━━━━━━━━━━━━━━━━━━━━━━━━━━━━━━━\u001b[0m \u001b[32m115.3/115.3 kB\u001b[0m \u001b[31m7.2 MB/s\u001b[0m eta \u001b[36m0:00:00\u001b[0m\n",
            "\u001b[?25hRequirement already satisfied: pandas in /usr/local/lib/python3.10/dist-packages (from datasets) (1.5.3)\n",
            "Requirement already satisfied: requests>=2.19.0 in /usr/local/lib/python3.10/dist-packages (from datasets) (2.31.0)\n",
            "Requirement already satisfied: tqdm>=4.62.1 in /usr/local/lib/python3.10/dist-packages (from datasets) (4.66.1)\n",
            "Requirement already satisfied: xxhash in /usr/local/lib/python3.10/dist-packages (from datasets) (3.4.1)\n",
            "Collecting multiprocess (from datasets)\n",
            "  Downloading multiprocess-0.70.15-py310-none-any.whl (134 kB)\n",
            "\u001b[2K     \u001b[90m━━━━━━━━━━━━━━━━━━━━━━━━━━━━━━━━━━━━━━━━\u001b[0m \u001b[32m134.8/134.8 kB\u001b[0m \u001b[31m8.1 MB/s\u001b[0m eta \u001b[36m0:00:00\u001b[0m\n",
            "\u001b[?25hRequirement already satisfied: fsspec[http]<=2023.10.0,>=2023.1.0 in /usr/local/lib/python3.10/dist-packages (from datasets) (2023.6.0)\n",
            "Requirement already satisfied: aiohttp in /usr/local/lib/python3.10/dist-packages (from datasets) (3.9.1)\n",
            "Requirement already satisfied: huggingface-hub>=0.18.0 in /usr/local/lib/python3.10/dist-packages (from datasets) (0.19.4)\n",
            "Requirement already satisfied: packaging in /usr/local/lib/python3.10/dist-packages (from datasets) (23.2)\n",
            "Requirement already satisfied: pyyaml>=5.1 in /usr/local/lib/python3.10/dist-packages (from datasets) (6.0.1)\n",
            "Requirement already satisfied: attrs>=17.3.0 in /usr/local/lib/python3.10/dist-packages (from aiohttp->datasets) (23.1.0)\n",
            "Requirement already satisfied: multidict<7.0,>=4.5 in /usr/local/lib/python3.10/dist-packages (from aiohttp->datasets) (6.0.4)\n",
            "Requirement already satisfied: yarl<2.0,>=1.0 in /usr/local/lib/python3.10/dist-packages (from aiohttp->datasets) (1.9.3)\n",
            "Requirement already satisfied: frozenlist>=1.1.1 in /usr/local/lib/python3.10/dist-packages (from aiohttp->datasets) (1.4.0)\n",
            "Requirement already satisfied: aiosignal>=1.1.2 in /usr/local/lib/python3.10/dist-packages (from aiohttp->datasets) (1.3.1)\n",
            "Requirement already satisfied: async-timeout<5.0,>=4.0 in /usr/local/lib/python3.10/dist-packages (from aiohttp->datasets) (4.0.3)\n",
            "Requirement already satisfied: filelock in /usr/local/lib/python3.10/dist-packages (from huggingface-hub>=0.18.0->datasets) (3.13.1)\n",
            "Requirement already satisfied: typing-extensions>=3.7.4.3 in /usr/local/lib/python3.10/dist-packages (from huggingface-hub>=0.18.0->datasets) (4.5.0)\n",
            "Requirement already satisfied: charset-normalizer<4,>=2 in /usr/local/lib/python3.10/dist-packages (from requests>=2.19.0->datasets) (3.3.2)\n",
            "Requirement already satisfied: idna<4,>=2.5 in /usr/local/lib/python3.10/dist-packages (from requests>=2.19.0->datasets) (3.6)\n",
            "Requirement already satisfied: urllib3<3,>=1.21.1 in /usr/local/lib/python3.10/dist-packages (from requests>=2.19.0->datasets) (2.0.7)\n",
            "Requirement already satisfied: certifi>=2017.4.17 in /usr/local/lib/python3.10/dist-packages (from requests>=2.19.0->datasets) (2023.11.17)\n",
            "Requirement already satisfied: python-dateutil>=2.8.1 in /usr/local/lib/python3.10/dist-packages (from pandas->datasets) (2.8.2)\n",
            "Requirement already satisfied: pytz>=2020.1 in /usr/local/lib/python3.10/dist-packages (from pandas->datasets) (2023.3.post1)\n",
            "Requirement already satisfied: six>=1.5 in /usr/local/lib/python3.10/dist-packages (from python-dateutil>=2.8.1->pandas->datasets) (1.16.0)\n",
            "Installing collected packages: pyarrow-hotfix, dill, multiprocess, datasets\n",
            "Successfully installed datasets-2.15.0 dill-0.3.7 multiprocess-0.70.15 pyarrow-hotfix-0.6\n"
          ]
        }
      ]
    },
    {
      "cell_type": "code",
      "execution_count": 5,
      "id": "0d228969",
      "metadata": {
        "id": "0d228969"
      },
      "outputs": [],
      "source": [
        "import numpy as np\n",
        "import pandas as pd\n",
        "import matplotlib.pyplot as plt\n",
        "import seaborn as sns\n",
        "import re\n",
        "\n",
        "import nltk\n",
        "from nltk.tokenize import word_tokenize\n",
        "from sklearn.preprocessing import LabelEncoder\n",
        "from sklearn.feature_extraction.text import TfidfVectorizer\n",
        "from sklearn import svm\n",
        "from sklearn.ensemble import RandomForestClassifier\n",
        "from sklearn.model_selection import train_test_split\n",
        "\n",
        "from sklearn.metrics import confusion_matrix\n",
        "from sklearn.metrics import recall_score\n",
        "from sklearn.metrics import precision_score\n",
        "from sklearn.metrics import classification_report, accuracy_score\n",
        "from sklearn.metrics import f1_score, make_scorer\n",
        "from sklearn.preprocessing import OneHotEncoder\n",
        "\n",
        "from sklearn.ensemble import GradientBoostingClassifier\n",
        "from sklearn.ensemble import RandomForestClassifier\n",
        "from xgboost import XGBClassifier\n",
        "from lightgbm import LGBMClassifier\n",
        "from sklearn.neural_network import MLPClassifier\n",
        "from sklearn.ensemble import AdaBoostClassifier\n",
        "from sklearn import svm\n",
        "\n",
        "\n",
        "from cleantext import clean\n",
        "\n",
        "from nlp_id.lemmatizer import Lemmatizer\n",
        "from nlp_id.stopword import StopWord\n",
        "from langdetect import detect\n",
        "from nlp_id.stopword import StopWord\n",
        "from nlp_id.lemmatizer import Lemmatizer\n",
        "from nltk.tokenize import sent_tokenize\n",
        "\n",
        "import tensorflow\n",
        "from tensorflow.keras.preprocessing import sequence\n",
        "from tensorflow.keras.models import Sequential\n",
        "from tensorflow.keras.layers import Dense, LSTM, GRU\n",
        "from tensorflow.keras.layers import Embedding\n",
        "from tensorflow.keras.utils import pad_sequences\n",
        "from keras.preprocessing.text import Tokenizer\n",
        "\n",
        "\n",
        "import torch\n",
        "import string\n",
        "from torch.optim import AdamW\n",
        "from torch.utils.data import DataLoader\n",
        "from transformers import AutoTokenizer, AutoModelForSequenceClassification, get_scheduler, Trainer, TrainingArguments\n",
        "from datasets import Dataset, concatenate_datasets, DatasetDict, load_metric\n",
        "\n",
        "pd.set_option('display.max_colwidth', None)\n",
        "\n",
        "import warnings\n",
        "warnings.filterwarnings('ignore')"
      ]
    },
    {
      "cell_type": "code",
      "source": [
        "nltk.download('punkt')"
      ],
      "metadata": {
        "colab": {
          "base_uri": "https://localhost:8080/"
        },
        "id": "XT_3uLsdGO7B",
        "outputId": "18287983-f65e-43ca-aa2d-b2d0a89f343c"
      },
      "id": "XT_3uLsdGO7B",
      "execution_count": 6,
      "outputs": [
        {
          "output_type": "stream",
          "name": "stderr",
          "text": [
            "[nltk_data] Downloading package punkt to /root/nltk_data...\n",
            "[nltk_data]   Unzipping tokenizers/punkt.zip.\n"
          ]
        },
        {
          "output_type": "execute_result",
          "data": {
            "text/plain": [
              "True"
            ]
          },
          "metadata": {},
          "execution_count": 6
        }
      ]
    },
    {
      "cell_type": "code",
      "execution_count": 7,
      "id": "05e8b37f",
      "metadata": {
        "id": "05e8b37f"
      },
      "outputs": [],
      "source": [
        "df_tbh = pd.read_excel('dataset_turnbackhoax_10k.xlsx')"
      ]
    },
    {
      "cell_type": "code",
      "execution_count": 8,
      "id": "de2b88fe",
      "metadata": {
        "scrolled": false,
        "colab": {
          "base_uri": "https://localhost:8080/",
          "height": 1000
        },
        "id": "de2b88fe",
        "outputId": "7921bfa4-0b1d-4804-8a52-5d86ba96e7fa"
      },
      "outputs": [
        {
          "output_type": "execute_result",
          "data": {
            "text/plain": [
              "                                                                                   Title  \\\n",
              "0          [SALAH] Anies Baswedan Dekat Dengan Aliran Krsiten Sesat Alpha Omega di Papua   \n",
              "1  [SALAH] Hakim Wahyu Iman Santoso Alami Kecelakaan Tunggal Usai Vonis Mati Ferdy Sambo   \n",
              "2                                          [SALAH] GAMBAR MEGAWATI DAN PUAN BERMAIN SLOT   \n",
              "\n",
              "           Timestamp  \\\n",
              "0      Maret 1, 2023   \n",
              "1      Maret 1, 2023   \n",
              "2  Februari 28, 2023   \n",
              "\n",
              "                                                                                                                                                                                                                                                                                                                                                                                                                                                                                                                                                                                                                                                                                                                                                                                                                                                                                                                                                                                                                                                                                                                                                                                                                                                                                                                                                                                                                                                                                                                                                                                                                                                                                                                                                                                                                                                                                                                                                                                                                                                                                                                                                                                                                                                                                                                                                                                                                                                                                                                                                                                                                                                                                                                                                                                                                                                                                                                                                                                                                                                                                                                                                                                                                                                                                                                                                                                                                                                                                                                                                                                                                                                                                                                                                                                                                                                                                                                                                                                                                                                                                                                                                                                                                                                                                                                                                                                                                                                                                                                                                                                                                                                                                                                                                                                                                                                                                                                                                                                                          FullText  \\\n",
              "0  Hasil Periksa Fakta Gabriela Nauli Sinaga (Universitas Sumatera Utara)\\nFaktanya, komunitas Alpha Omega yang menyambut Anies Baswedan di Papua bukan Alpha Omega yang merupakan aliran Kristen sesat. Diketahui ternyata banyak nama komunitas Alpha Omega tersebar di Papua dan tidak semuanya merupakan komunitas atau aliran sesat.\\nSelengkapnya ada di penjelasan.\\n=====\\n[KATEGORI]: MISLEADING CONTENT/Konten Menyesatkan\\n======\\n[SUMBER]: TWITTER\\nhttps://archive.vn/sGF6V\\nhttps://twitter.com/CindyEeemilia/status/1628404789456560134?s=20\\nhttps://www.katalogika.com/info-logika/pr-1446262285/anies-akui-dekat-dengan-aliran-sesat-kristen-alfa-omega-papua\\n\\n=====\\n[NARASI]:\\n“BISA DILIHAT SI ONTA YAMAN NGGAK PEDULI ITU APA YANG PENTING DAPAT SUARA SEGALA CARA DEMI KEKUASAAN”\\n=====\\n[PENJELASAN]:\\nSebuah unggahan di media sosial Twitter menampilkan hasil tangkapan layar dari artikel berita yang berjudul, “Anies Akui Dekat Dengan Aliran Sesat Kristen Alfa Omega Papua”. Unggahan oleh akun @ ini juga menambahkan sebuah narasi yang menyatakan bahwa Anies melakukan segala cara demi sebuah kekuasaan.\\n“BISA DILIHAT SI ONTA YAMAN NGGAK PEDULI ITU APA YANG PENTING DAPAT SUARA SEGALA CARA DEMI KEKUASAAN”\\nNamun setelah menelusuri terkait dengan kebenaran berita ini, ditemukan sebuah fakta yang dapat menunjukkan bahwa klaim ini merupakan sebuah klaim yang keliru. Pasalnya, terdapat kekeliruan terhadap nama Alpha Omega yang dimaksud di dalam artikel, dengan Alpha Omega tempat Anies Baswedan melakukan kunjungan pada 2022 lalu.\\nHasil tangkapan layar pada akun Twitter ini merupakan hasil tangkapan layar dari artikel milik media online katalogika.com yang berjudul, ““Anies Akui Dekat Dengan Aliran Sesat Kristen Alfa Omega Papua”. Artikel ini diketahui telah beredar pada bulan Desember tahun 2022 lalu. Di dalamnya, artikel ini mengungkapkan sebuah klaim yang menyatakan bahwa Anies mengakui dekat dengan sebuah aliran sesat di Alpha Omega di Kabupaten Supiori, Kota Sentani Papua dan diberi nama Yohanes oleh Ondofolo (sebutan Imam di Alfa Omega).\\nKlaim oleh artikel ini muncul berdasarkan pernyataan dari Ade Armando pada video di sebuah unggahan akun Youtube Channel Cokro TV yang tayang pada 26 Desember 2022. Dalam video tersebut Ade Armando menyatakan bahwa komunitas Kristen Alpha Omega merupakan aliran Kristen sesat. Mereka berdoa di atas batu yang dipercaya tempat persemayaman Tuhan. Mereka percaya, hubungan badan bukan pasangan suami istri akan meningkatkan ketaqwaan. Pernyataan kemudian menjadi dasar dari timbulnya klaim bahwa Anies Baswedan menerima nama dan dekat dengan aliran Kristen sesat bernama Alpha Omega.\\nNamun ternyata, selang beberapa hari sejak video dari Ade Armando ini tayang, akun Youtube Channel Cokro TV kemudian mengeluarkan video baru yang diketahui merupakan video klarifikasi dari video sebelumnya. Dalam tayangan yang berjudul ALFA OMEGA YANG MENERIMA ANIES BUKAN ORGANISASI YANG MENYESATKAN, Ade Armando menegaskan Alfa Omega yang menerima kunjungan Anies bukan gereja yang memiliki aliran sesat. Dirinya menyatakan bahwa belakangan dia mengetahui bahwa kedua gereja itu berbeda dan hanya memiliki nama yang sama setelah diberi tahu sutradara Angga Dwimas Sasongko, yang merupakan keponakan pemimpin Gereja Alfa Omega di Jayapura, Pendeta Robert Nerotumilena.\\n“Kesalahan saya adalah mengira bahwa kedua gereja tersebut adalah dua gereja yang sama. Sekarang saya memperoleh informasi lagi bahwa itu adalah dua gereja yang berbeda namanya sama-sama Alfa Omega tapi gereja yang berbeda,” kata Ade Armando di kanal Youtube @CokroTv.\\nDi dalam video tersebut Ade Armando menegaskan bahwa Alfa Omega yang menerima kunjungan Anies bukan gereja yang memiliki aliran sesat.\\n“Jadi sekarang mudah-mudahan menjadi jelas Alfa Omega yang menerima Anies adalah Alfa Omega yang dipimpin pendeta Robert Nerotumilena yang tidak dianggap sesat,” ungkapnya.\\n“Saya harus minta maaf kepada Pendeta Robert yang mungkin sudah terganggu nama baiknya akibat video saya. Saya juga sudah meminta Cokro TV men-take down video saya tersebut,” jelas Ade Armando.\\nJadi dapat disimpulkan bahwa klaim yang menyatakan bahwa Anies Baswedan dekat dengan aliran Kristen sesat di Papua, merupakan sebuah informasi yang keliru dan termasuk ke dalam kategori misleading content atau konten menyesatkan.\\n=====\\n[REFERENSI]:\\nhttps://www.katalogika.com/info-logika/pr-1446262285/anies-akui-dekat-dengan-aliran-sesat-kristen-alfa-omega-papua\\n\\nhttps://wartaekonomi.co.id/read469573/cek-fakta-benarkah-anies-baswedan-dikasih-nama-yohanes-dari-gereja-kristen-papua-yang-menghalalkan-hubungan-badan-sesama-jemaat?page=2\\n\\n\\n\\nhttps://kbanews.com/hot-news/blunder-ade-armando-sebut-rumah-doa-alfa-omega-bukan-komunitas-aliran-sesat/\\n\\n\\n\\nhttps://www.youtube.com/watch?v=UbgLMaBlzWQ\\nEditor: Adi Syafitrah   \n",
              "1                                                                                                                                                                                                                                                                                                                                                                                                                                                                                                                                                                                                                                                                                                                                                                                                                                                                                                                                                                                                                                                                                                                                                                                                                                                                                                                                                                                                                                                                                                                                                                                                                                                                                                                                                                                                                                                                                                                                                                                                                                                                                                                                                                                                                                                      Hasil Periksa Fakta Gabriela Nauli Sinaga (Universitas Sumatera Utara)\\nFaktanya, isu terkait dengan kecelakaan tunggal yang dialami Hakim Wahyu Iman Santoso merupakan isu yang tidak benar. Tidak ada informasi resmi yang dapat mendukung kebenaran isu ini.\\nSelengkapnya ada di penjelasan.\\n=====\\n[KATEGORI]: MISLEADING CONTENT/Konten Menyesatkan\\n=====\\n[SUMBER]: TIKTOK\\nhttps://archive.vn/Yhfv5\\nhttps://vm.tiktok.com/ZS8maJbKG/\\n\\n=====\\n[NARASI]:\\n“ini bener gasih?? Ya Allah gimna keadaan pa hakim? Ini bener gasih aku dpt infonya dari metro.com di google”\\n=====\\n[PENJELASAN]:\\nBeredar sebuah video melalui media sosial Tiktok, dengan isi konten yang menyatakan bahwa Hakim Wahyu Iman Santoso, hakim yang memberi vonis hukuman mati kepada terdakwa Ferdy Sambo, mengalami kecelakaan tunggal usai putusan tersebut dikeluarkan. Video ini juga menyertakan sebuah potongan sebuah artikel yang di dalamnya tertulis, “Ketua Majelis Hakim Wahyu Iman Santoso dikabarkan mengalami kecelakaan tunggal usai memberikan vonis hukuman mati kepada terdakwa kasus pembunuhan berencana terhadap Brigadir J, Ferdy Sambo.”\\nNamun setelah melakukan penelusuran terkait hal ini, dapat disimpulkan bahwa informasi mengenai Hakim Wahyu Iman Santoso mengalami kecelakaan tunggal usai memberikan hukuman mati kepada Ferdy Sambo merupakan sebuah informasi yang keliru. Pasalnya, sampai saat ini tidak ditemukan informasi resmi yang dapat mengklarifikasi kebenaran isu ini.\\nPotongan artikel yang terdapat di dalam video Tiktok tersebut diketahui ternyata merupakan potongan artikel cek fakta dari media berita online metro.suara.com yang berjudul, “CEK FAKTA: Hakim Wahyu Iman Santoso Alami Kecelakaan Tunggal Usai Vonis Mati Ferdy Sambo, Benarkah?” Di dalam artikel tersebut tidak ada ditemukan informasi yang menyebutkan bahwa Hakim Wahyu Iman Santoso telah mengalami kecelakaan tunggal pasca vonis hukuman mati yang diberikan kepada Ferdy Sambo. Artikel ini menjelaskan bahwa isu kecelakaan tunggal yang dialami Hakim Wahyu Iman Santoso merupakan isu yang tidak benar. Klarifikasi ini muncul ketika video Youtube yang berjudul, “”Mengejutkan || Hkim yg beri V0nis Mti pada smbo tiba² alami kecelakn tunggl. HKIM SAMBO KRITIS. BALASAN KARENA JATVHKN VONIS MATI?”, tersebar di media sosial.\\nJadi dapat disimpulkan bahwa informasi mengenai kecelakaan tunggal yang dialami oleh Hakim Wahyu Iman Santoso meruakan informasi yang keliru dan termasuk ke dalam misleading content atau konten yang menyesatkan.\\n=====\\n[REFERENSI]:\\nhttps://metro.suara.com/read/2023/02/18/144900/cek-fakta-hakim-wahyu-iman-santoso-alami-kecelakaan-tunggal-usai-vonis-mati-ferdy-sambo-benarkah   \n",
              "2                                                                                                                                                                                                                                                                                                                                                                                                                                                                                                                                                                                                                                                                                                                                                                                                                                                                                                                                                                                                                                                                                                                                                                                                                                                                                                                                                                                                                                                                                                                                                                                                                                                                                                                                                                                                                                                                                                                                                                                                                                                                                                                                               Hasil Periksa Fakta Gabriela Nauli Sinaga (Universitas Sumatera Utara)\\nFaktanya, gambar tersebut telah diedit. Foto aslinya dapat dilihat melalui unggahan di akun Instagram resmi Puan Maharani. Foto ini merupakan foto dari Megawati dan Puan yang bersilaturahmi secara virtual dengan Presiden RI, Joko Widodo pada Mei 2022 lalu.\\nSelengkapnya ada di penjelasan.\\n=====\\n[KATEGORI]: MANIPULATED CONTENT/Konten yang Dimanipulasi\\n=====\\n[SUMBER]: FACEBOOK\\nhttps://archive.vn/DMQ83\\nhttps://web.facebook.com/groups/indonesiabersuara2021/permalink/3664065010487939/\\n\\n=====\\n[NARASI]:\\n“Nenek lampir pemimpin partai banteng bercula satu lagi main slot bersama anaknya kang matiin mic\\nKapan lu tobat nek\\nSemoga om ganjar keluar dari partainya nenek lampir partai banteng bercula satu\\n#Cuma orang goblok yang mau jadi babunya nenek lampir partai banteng bercula satu”\\n=====\\n[PENJELASAN]:\\nBeredar sebuah unggahan di media sosial Facebook, Pemimpin Partai PDI-Perjuangan, Megawati Soekarno Putri, bersama putrinya, Puan Maharani, memegang sebuah ponsel dengan tampilan permainan judi slot. Dalam unggahannya, akun bernama Kang Dadang ini menambahkan narasi sebagai berikut:\\n“Nenek lampir pemimpin partai banteng bercula satu lagi main slot bersama anaknya kang matiin mic”\\nNamun setelah melakukan penelusuran terkait dengan gambar di dalam unggahan ini, ditemukan sebuah fakta yang menunjukkan bahwa unggahan foto ini adalah hasil editan. Dengan menggunakan pencarian Google Search Image, kondisi asli dari gambar Megawati Soekarno Putri dengan Puan Maharani ini tidak sedang bermain permainan slot.\\nMelansir dari artikel Detik.com, foto ini berasal dari unggahan Puan Maharani di akun Instagram pribadinya pada 2 Mei 2022 lalu. Megawati Soekarnoputri dan Puan Maharani bersilaturahmi Lebaran 2022 dengan Presiden Joko Widodo (Jokowi) dan Ibu Negara Iriana Joko Widodo. Silaturahmi Lebaran Megawati, Puan, dan Jokowi ini dilakukan secara virtual.\\n“Berlebaran ke rumah mama juga bersilaturahmi secara virtual dengan Presiden @jokowi & Ibu Negara,” kata Puan di akun Instagramnya, Senin (2/5/2022). Puan juga mengunggah foto bersama Megawati saat video call bersama Jokowi. Tampak para tokoh itu semringah saat silaturahmi Lebaran.\\nJadi dapat disimpulkan bahwa unggahan yang menunjukkan bahwa Megawati Soekarno Putrid dan Puan Maharani memegang ponsel dengan permainan slot merupakan gambar editan dan termasuk ke dalam kategori konten yang dimanipuasi atau manipulated content.\\n=====\\n[REFERENSI]:\\nhttps://news.detik.com/berita/d-6061452/megawati-dan-puan-video-call-dengan-jokowi-saat-lebaran\\n\\nhttps://www.suara.com/news/2022/05/02/195830/senyum-semringah-megawati-saat-video-call-dengan-jokowi-di-hari-lebaran-pertama\\n\\n\\nEditor: Adi Syafitrah   \n",
              "\n",
              "                Tags                  Author  \\\n",
              "0  Fitnah;Hasut;Hoax  Pemeriksa Fakta Junior   \n",
              "1  Fitnah;Hasut;Hoax  Pemeriksa Fakta Junior   \n",
              "2  Fitnah;Hasut;Hoax  Pemeriksa Fakta Junior   \n",
              "\n",
              "                                                                                                                       Url  \n",
              "0          https://turnbackhoax.id/2023/03/01/salah-anies-baswedan-dekat-dengan-aliran-krsiten-sesat-alpha-omega-di-papua/  \n",
              "1  https://turnbackhoax.id/2023/03/01/salah-hakim-wahyu-iman-santoso-alami-kecelakaan-tunggal-usai-vonis-mati-ferdy-sambo/  \n",
              "2                                          https://turnbackhoax.id/2023/02/28/salah-gambar-megawati-dan-puan-bermain-slot/  "
            ],
            "text/html": [
              "\n",
              "  <div id=\"df-567d4689-3cb0-40b7-90ab-502533291ba5\" class=\"colab-df-container\">\n",
              "    <div>\n",
              "<style scoped>\n",
              "    .dataframe tbody tr th:only-of-type {\n",
              "        vertical-align: middle;\n",
              "    }\n",
              "\n",
              "    .dataframe tbody tr th {\n",
              "        vertical-align: top;\n",
              "    }\n",
              "\n",
              "    .dataframe thead th {\n",
              "        text-align: right;\n",
              "    }\n",
              "</style>\n",
              "<table border=\"1\" class=\"dataframe\">\n",
              "  <thead>\n",
              "    <tr style=\"text-align: right;\">\n",
              "      <th></th>\n",
              "      <th>Title</th>\n",
              "      <th>Timestamp</th>\n",
              "      <th>FullText</th>\n",
              "      <th>Tags</th>\n",
              "      <th>Author</th>\n",
              "      <th>Url</th>\n",
              "    </tr>\n",
              "  </thead>\n",
              "  <tbody>\n",
              "    <tr>\n",
              "      <th>0</th>\n",
              "      <td>[SALAH] Anies Baswedan Dekat Dengan Aliran Krsiten Sesat Alpha Omega di Papua</td>\n",
              "      <td>Maret 1, 2023</td>\n",
              "      <td>Hasil Periksa Fakta Gabriela Nauli Sinaga (Universitas Sumatera Utara)\\nFaktanya, komunitas Alpha Omega yang menyambut Anies Baswedan di Papua bukan Alpha Omega yang merupakan aliran Kristen sesat. Diketahui ternyata banyak nama komunitas Alpha Omega tersebar di Papua dan tidak semuanya merupakan komunitas atau aliran sesat.\\nSelengkapnya ada di penjelasan.\\n=====\\n[KATEGORI]: MISLEADING CONTENT/Konten Menyesatkan\\n======\\n[SUMBER]: TWITTER\\nhttps://archive.vn/sGF6V\\nhttps://twitter.com/CindyEeemilia/status/1628404789456560134?s=20\\nhttps://www.katalogika.com/info-logika/pr-1446262285/anies-akui-dekat-dengan-aliran-sesat-kristen-alfa-omega-papua\\n\\n=====\\n[NARASI]:\\n“BISA DILIHAT SI ONTA YAMAN NGGAK PEDULI ITU APA YANG PENTING DAPAT SUARA SEGALA CARA DEMI KEKUASAAN”\\n=====\\n[PENJELASAN]:\\nSebuah unggahan di media sosial Twitter menampilkan hasil tangkapan layar dari artikel berita yang berjudul, “Anies Akui Dekat Dengan Aliran Sesat Kristen Alfa Omega Papua”. Unggahan oleh akun @ ini juga menambahkan sebuah narasi yang menyatakan bahwa Anies melakukan segala cara demi sebuah kekuasaan.\\n“BISA DILIHAT SI ONTA YAMAN NGGAK PEDULI ITU APA YANG PENTING DAPAT SUARA SEGALA CARA DEMI KEKUASAAN”\\nNamun setelah menelusuri terkait dengan kebenaran berita ini, ditemukan sebuah fakta yang dapat menunjukkan bahwa klaim ini merupakan sebuah klaim yang keliru. Pasalnya, terdapat kekeliruan terhadap nama Alpha Omega yang dimaksud di dalam artikel, dengan Alpha Omega tempat Anies Baswedan melakukan kunjungan pada 2022 lalu.\\nHasil tangkapan layar pada akun Twitter ini merupakan hasil tangkapan layar dari artikel milik media online katalogika.com yang berjudul, ““Anies Akui Dekat Dengan Aliran Sesat Kristen Alfa Omega Papua”. Artikel ini diketahui telah beredar pada bulan Desember tahun 2022 lalu. Di dalamnya, artikel ini mengungkapkan sebuah klaim yang menyatakan bahwa Anies mengakui dekat dengan sebuah aliran sesat di Alpha Omega di Kabupaten Supiori, Kota Sentani Papua dan diberi nama Yohanes oleh Ondofolo (sebutan Imam di Alfa Omega).\\nKlaim oleh artikel ini muncul berdasarkan pernyataan dari Ade Armando pada video di sebuah unggahan akun Youtube Channel Cokro TV yang tayang pada 26 Desember 2022. Dalam video tersebut Ade Armando menyatakan bahwa komunitas Kristen Alpha Omega merupakan aliran Kristen sesat. Mereka berdoa di atas batu yang dipercaya tempat persemayaman Tuhan. Mereka percaya, hubungan badan bukan pasangan suami istri akan meningkatkan ketaqwaan. Pernyataan kemudian menjadi dasar dari timbulnya klaim bahwa Anies Baswedan menerima nama dan dekat dengan aliran Kristen sesat bernama Alpha Omega.\\nNamun ternyata, selang beberapa hari sejak video dari Ade Armando ini tayang, akun Youtube Channel Cokro TV kemudian mengeluarkan video baru yang diketahui merupakan video klarifikasi dari video sebelumnya. Dalam tayangan yang berjudul ALFA OMEGA YANG MENERIMA ANIES BUKAN ORGANISASI YANG MENYESATKAN, Ade Armando menegaskan Alfa Omega yang menerima kunjungan Anies bukan gereja yang memiliki aliran sesat. Dirinya menyatakan bahwa belakangan dia mengetahui bahwa kedua gereja itu berbeda dan hanya memiliki nama yang sama setelah diberi tahu sutradara Angga Dwimas Sasongko, yang merupakan keponakan pemimpin Gereja Alfa Omega di Jayapura, Pendeta Robert Nerotumilena.\\n“Kesalahan saya adalah mengira bahwa kedua gereja tersebut adalah dua gereja yang sama. Sekarang saya memperoleh informasi lagi bahwa itu adalah dua gereja yang berbeda namanya sama-sama Alfa Omega tapi gereja yang berbeda,” kata Ade Armando di kanal Youtube @CokroTv.\\nDi dalam video tersebut Ade Armando menegaskan bahwa Alfa Omega yang menerima kunjungan Anies bukan gereja yang memiliki aliran sesat.\\n“Jadi sekarang mudah-mudahan menjadi jelas Alfa Omega yang menerima Anies adalah Alfa Omega yang dipimpin pendeta Robert Nerotumilena yang tidak dianggap sesat,” ungkapnya.\\n“Saya harus minta maaf kepada Pendeta Robert yang mungkin sudah terganggu nama baiknya akibat video saya. Saya juga sudah meminta Cokro TV men-take down video saya tersebut,” jelas Ade Armando.\\nJadi dapat disimpulkan bahwa klaim yang menyatakan bahwa Anies Baswedan dekat dengan aliran Kristen sesat di Papua, merupakan sebuah informasi yang keliru dan termasuk ke dalam kategori misleading content atau konten menyesatkan.\\n=====\\n[REFERENSI]:\\nhttps://www.katalogika.com/info-logika/pr-1446262285/anies-akui-dekat-dengan-aliran-sesat-kristen-alfa-omega-papua\\n\\nhttps://wartaekonomi.co.id/read469573/cek-fakta-benarkah-anies-baswedan-dikasih-nama-yohanes-dari-gereja-kristen-papua-yang-menghalalkan-hubungan-badan-sesama-jemaat?page=2\\n\\n\\n\\nhttps://kbanews.com/hot-news/blunder-ade-armando-sebut-rumah-doa-alfa-omega-bukan-komunitas-aliran-sesat/\\n\\n\\n\\nhttps://www.youtube.com/watch?v=UbgLMaBlzWQ\\nEditor: Adi Syafitrah</td>\n",
              "      <td>Fitnah;Hasut;Hoax</td>\n",
              "      <td>Pemeriksa Fakta Junior</td>\n",
              "      <td>https://turnbackhoax.id/2023/03/01/salah-anies-baswedan-dekat-dengan-aliran-krsiten-sesat-alpha-omega-di-papua/</td>\n",
              "    </tr>\n",
              "    <tr>\n",
              "      <th>1</th>\n",
              "      <td>[SALAH] Hakim Wahyu Iman Santoso Alami Kecelakaan Tunggal Usai Vonis Mati Ferdy Sambo</td>\n",
              "      <td>Maret 1, 2023</td>\n",
              "      <td>Hasil Periksa Fakta Gabriela Nauli Sinaga (Universitas Sumatera Utara)\\nFaktanya, isu terkait dengan kecelakaan tunggal yang dialami Hakim Wahyu Iman Santoso merupakan isu yang tidak benar. Tidak ada informasi resmi yang dapat mendukung kebenaran isu ini.\\nSelengkapnya ada di penjelasan.\\n=====\\n[KATEGORI]: MISLEADING CONTENT/Konten Menyesatkan\\n=====\\n[SUMBER]: TIKTOK\\nhttps://archive.vn/Yhfv5\\nhttps://vm.tiktok.com/ZS8maJbKG/\\n\\n=====\\n[NARASI]:\\n“ini bener gasih?? Ya Allah gimna keadaan pa hakim? Ini bener gasih aku dpt infonya dari metro.com di google”\\n=====\\n[PENJELASAN]:\\nBeredar sebuah video melalui media sosial Tiktok, dengan isi konten yang menyatakan bahwa Hakim Wahyu Iman Santoso, hakim yang memberi vonis hukuman mati kepada terdakwa Ferdy Sambo, mengalami kecelakaan tunggal usai putusan tersebut dikeluarkan. Video ini juga menyertakan sebuah potongan sebuah artikel yang di dalamnya tertulis, “Ketua Majelis Hakim Wahyu Iman Santoso dikabarkan mengalami kecelakaan tunggal usai memberikan vonis hukuman mati kepada terdakwa kasus pembunuhan berencana terhadap Brigadir J, Ferdy Sambo.”\\nNamun setelah melakukan penelusuran terkait hal ini, dapat disimpulkan bahwa informasi mengenai Hakim Wahyu Iman Santoso mengalami kecelakaan tunggal usai memberikan hukuman mati kepada Ferdy Sambo merupakan sebuah informasi yang keliru. Pasalnya, sampai saat ini tidak ditemukan informasi resmi yang dapat mengklarifikasi kebenaran isu ini.\\nPotongan artikel yang terdapat di dalam video Tiktok tersebut diketahui ternyata merupakan potongan artikel cek fakta dari media berita online metro.suara.com yang berjudul, “CEK FAKTA: Hakim Wahyu Iman Santoso Alami Kecelakaan Tunggal Usai Vonis Mati Ferdy Sambo, Benarkah?” Di dalam artikel tersebut tidak ada ditemukan informasi yang menyebutkan bahwa Hakim Wahyu Iman Santoso telah mengalami kecelakaan tunggal pasca vonis hukuman mati yang diberikan kepada Ferdy Sambo. Artikel ini menjelaskan bahwa isu kecelakaan tunggal yang dialami Hakim Wahyu Iman Santoso merupakan isu yang tidak benar. Klarifikasi ini muncul ketika video Youtube yang berjudul, “”Mengejutkan || Hkim yg beri V0nis Mti pada smbo tiba² alami kecelakn tunggl. HKIM SAMBO KRITIS. BALASAN KARENA JATVHKN VONIS MATI?”, tersebar di media sosial.\\nJadi dapat disimpulkan bahwa informasi mengenai kecelakaan tunggal yang dialami oleh Hakim Wahyu Iman Santoso meruakan informasi yang keliru dan termasuk ke dalam misleading content atau konten yang menyesatkan.\\n=====\\n[REFERENSI]:\\nhttps://metro.suara.com/read/2023/02/18/144900/cek-fakta-hakim-wahyu-iman-santoso-alami-kecelakaan-tunggal-usai-vonis-mati-ferdy-sambo-benarkah</td>\n",
              "      <td>Fitnah;Hasut;Hoax</td>\n",
              "      <td>Pemeriksa Fakta Junior</td>\n",
              "      <td>https://turnbackhoax.id/2023/03/01/salah-hakim-wahyu-iman-santoso-alami-kecelakaan-tunggal-usai-vonis-mati-ferdy-sambo/</td>\n",
              "    </tr>\n",
              "    <tr>\n",
              "      <th>2</th>\n",
              "      <td>[SALAH] GAMBAR MEGAWATI DAN PUAN BERMAIN SLOT</td>\n",
              "      <td>Februari 28, 2023</td>\n",
              "      <td>Hasil Periksa Fakta Gabriela Nauli Sinaga (Universitas Sumatera Utara)\\nFaktanya, gambar tersebut telah diedit. Foto aslinya dapat dilihat melalui unggahan di akun Instagram resmi Puan Maharani. Foto ini merupakan foto dari Megawati dan Puan yang bersilaturahmi secara virtual dengan Presiden RI, Joko Widodo pada Mei 2022 lalu.\\nSelengkapnya ada di penjelasan.\\n=====\\n[KATEGORI]: MANIPULATED CONTENT/Konten yang Dimanipulasi\\n=====\\n[SUMBER]: FACEBOOK\\nhttps://archive.vn/DMQ83\\nhttps://web.facebook.com/groups/indonesiabersuara2021/permalink/3664065010487939/\\n\\n=====\\n[NARASI]:\\n“Nenek lampir pemimpin partai banteng bercula satu lagi main slot bersama anaknya kang matiin mic\\nKapan lu tobat nek\\nSemoga om ganjar keluar dari partainya nenek lampir partai banteng bercula satu\\n#Cuma orang goblok yang mau jadi babunya nenek lampir partai banteng bercula satu”\\n=====\\n[PENJELASAN]:\\nBeredar sebuah unggahan di media sosial Facebook, Pemimpin Partai PDI-Perjuangan, Megawati Soekarno Putri, bersama putrinya, Puan Maharani, memegang sebuah ponsel dengan tampilan permainan judi slot. Dalam unggahannya, akun bernama Kang Dadang ini menambahkan narasi sebagai berikut:\\n“Nenek lampir pemimpin partai banteng bercula satu lagi main slot bersama anaknya kang matiin mic”\\nNamun setelah melakukan penelusuran terkait dengan gambar di dalam unggahan ini, ditemukan sebuah fakta yang menunjukkan bahwa unggahan foto ini adalah hasil editan. Dengan menggunakan pencarian Google Search Image, kondisi asli dari gambar Megawati Soekarno Putri dengan Puan Maharani ini tidak sedang bermain permainan slot.\\nMelansir dari artikel Detik.com, foto ini berasal dari unggahan Puan Maharani di akun Instagram pribadinya pada 2 Mei 2022 lalu. Megawati Soekarnoputri dan Puan Maharani bersilaturahmi Lebaran 2022 dengan Presiden Joko Widodo (Jokowi) dan Ibu Negara Iriana Joko Widodo. Silaturahmi Lebaran Megawati, Puan, dan Jokowi ini dilakukan secara virtual.\\n“Berlebaran ke rumah mama juga bersilaturahmi secara virtual dengan Presiden @jokowi &amp; Ibu Negara,” kata Puan di akun Instagramnya, Senin (2/5/2022). Puan juga mengunggah foto bersama Megawati saat video call bersama Jokowi. Tampak para tokoh itu semringah saat silaturahmi Lebaran.\\nJadi dapat disimpulkan bahwa unggahan yang menunjukkan bahwa Megawati Soekarno Putrid dan Puan Maharani memegang ponsel dengan permainan slot merupakan gambar editan dan termasuk ke dalam kategori konten yang dimanipuasi atau manipulated content.\\n=====\\n[REFERENSI]:\\nhttps://news.detik.com/berita/d-6061452/megawati-dan-puan-video-call-dengan-jokowi-saat-lebaran\\n\\nhttps://www.suara.com/news/2022/05/02/195830/senyum-semringah-megawati-saat-video-call-dengan-jokowi-di-hari-lebaran-pertama\\n\\n\\nEditor: Adi Syafitrah</td>\n",
              "      <td>Fitnah;Hasut;Hoax</td>\n",
              "      <td>Pemeriksa Fakta Junior</td>\n",
              "      <td>https://turnbackhoax.id/2023/02/28/salah-gambar-megawati-dan-puan-bermain-slot/</td>\n",
              "    </tr>\n",
              "  </tbody>\n",
              "</table>\n",
              "</div>\n",
              "    <div class=\"colab-df-buttons\">\n",
              "\n",
              "  <div class=\"colab-df-container\">\n",
              "    <button class=\"colab-df-convert\" onclick=\"convertToInteractive('df-567d4689-3cb0-40b7-90ab-502533291ba5')\"\n",
              "            title=\"Convert this dataframe to an interactive table.\"\n",
              "            style=\"display:none;\">\n",
              "\n",
              "  <svg xmlns=\"http://www.w3.org/2000/svg\" height=\"24px\" viewBox=\"0 -960 960 960\">\n",
              "    <path d=\"M120-120v-720h720v720H120Zm60-500h600v-160H180v160Zm220 220h160v-160H400v160Zm0 220h160v-160H400v160ZM180-400h160v-160H180v160Zm440 0h160v-160H620v160ZM180-180h160v-160H180v160Zm440 0h160v-160H620v160Z\"/>\n",
              "  </svg>\n",
              "    </button>\n",
              "\n",
              "  <style>\n",
              "    .colab-df-container {\n",
              "      display:flex;\n",
              "      gap: 12px;\n",
              "    }\n",
              "\n",
              "    .colab-df-convert {\n",
              "      background-color: #E8F0FE;\n",
              "      border: none;\n",
              "      border-radius: 50%;\n",
              "      cursor: pointer;\n",
              "      display: none;\n",
              "      fill: #1967D2;\n",
              "      height: 32px;\n",
              "      padding: 0 0 0 0;\n",
              "      width: 32px;\n",
              "    }\n",
              "\n",
              "    .colab-df-convert:hover {\n",
              "      background-color: #E2EBFA;\n",
              "      box-shadow: 0px 1px 2px rgba(60, 64, 67, 0.3), 0px 1px 3px 1px rgba(60, 64, 67, 0.15);\n",
              "      fill: #174EA6;\n",
              "    }\n",
              "\n",
              "    .colab-df-buttons div {\n",
              "      margin-bottom: 4px;\n",
              "    }\n",
              "\n",
              "    [theme=dark] .colab-df-convert {\n",
              "      background-color: #3B4455;\n",
              "      fill: #D2E3FC;\n",
              "    }\n",
              "\n",
              "    [theme=dark] .colab-df-convert:hover {\n",
              "      background-color: #434B5C;\n",
              "      box-shadow: 0px 1px 3px 1px rgba(0, 0, 0, 0.15);\n",
              "      filter: drop-shadow(0px 1px 2px rgba(0, 0, 0, 0.3));\n",
              "      fill: #FFFFFF;\n",
              "    }\n",
              "  </style>\n",
              "\n",
              "    <script>\n",
              "      const buttonEl =\n",
              "        document.querySelector('#df-567d4689-3cb0-40b7-90ab-502533291ba5 button.colab-df-convert');\n",
              "      buttonEl.style.display =\n",
              "        google.colab.kernel.accessAllowed ? 'block' : 'none';\n",
              "\n",
              "      async function convertToInteractive(key) {\n",
              "        const element = document.querySelector('#df-567d4689-3cb0-40b7-90ab-502533291ba5');\n",
              "        const dataTable =\n",
              "          await google.colab.kernel.invokeFunction('convertToInteractive',\n",
              "                                                    [key], {});\n",
              "        if (!dataTable) return;\n",
              "\n",
              "        const docLinkHtml = 'Like what you see? Visit the ' +\n",
              "          '<a target=\"_blank\" href=https://colab.research.google.com/notebooks/data_table.ipynb>data table notebook</a>'\n",
              "          + ' to learn more about interactive tables.';\n",
              "        element.innerHTML = '';\n",
              "        dataTable['output_type'] = 'display_data';\n",
              "        await google.colab.output.renderOutput(dataTable, element);\n",
              "        const docLink = document.createElement('div');\n",
              "        docLink.innerHTML = docLinkHtml;\n",
              "        element.appendChild(docLink);\n",
              "      }\n",
              "    </script>\n",
              "  </div>\n",
              "\n",
              "\n",
              "<div id=\"df-368ed94d-d927-4f5f-a6b9-ea60e48111a5\">\n",
              "  <button class=\"colab-df-quickchart\" onclick=\"quickchart('df-368ed94d-d927-4f5f-a6b9-ea60e48111a5')\"\n",
              "            title=\"Suggest charts\"\n",
              "            style=\"display:none;\">\n",
              "\n",
              "<svg xmlns=\"http://www.w3.org/2000/svg\" height=\"24px\"viewBox=\"0 0 24 24\"\n",
              "     width=\"24px\">\n",
              "    <g>\n",
              "        <path d=\"M19 3H5c-1.1 0-2 .9-2 2v14c0 1.1.9 2 2 2h14c1.1 0 2-.9 2-2V5c0-1.1-.9-2-2-2zM9 17H7v-7h2v7zm4 0h-2V7h2v10zm4 0h-2v-4h2v4z\"/>\n",
              "    </g>\n",
              "</svg>\n",
              "  </button>\n",
              "\n",
              "<style>\n",
              "  .colab-df-quickchart {\n",
              "      --bg-color: #E8F0FE;\n",
              "      --fill-color: #1967D2;\n",
              "      --hover-bg-color: #E2EBFA;\n",
              "      --hover-fill-color: #174EA6;\n",
              "      --disabled-fill-color: #AAA;\n",
              "      --disabled-bg-color: #DDD;\n",
              "  }\n",
              "\n",
              "  [theme=dark] .colab-df-quickchart {\n",
              "      --bg-color: #3B4455;\n",
              "      --fill-color: #D2E3FC;\n",
              "      --hover-bg-color: #434B5C;\n",
              "      --hover-fill-color: #FFFFFF;\n",
              "      --disabled-bg-color: #3B4455;\n",
              "      --disabled-fill-color: #666;\n",
              "  }\n",
              "\n",
              "  .colab-df-quickchart {\n",
              "    background-color: var(--bg-color);\n",
              "    border: none;\n",
              "    border-radius: 50%;\n",
              "    cursor: pointer;\n",
              "    display: none;\n",
              "    fill: var(--fill-color);\n",
              "    height: 32px;\n",
              "    padding: 0;\n",
              "    width: 32px;\n",
              "  }\n",
              "\n",
              "  .colab-df-quickchart:hover {\n",
              "    background-color: var(--hover-bg-color);\n",
              "    box-shadow: 0 1px 2px rgba(60, 64, 67, 0.3), 0 1px 3px 1px rgba(60, 64, 67, 0.15);\n",
              "    fill: var(--button-hover-fill-color);\n",
              "  }\n",
              "\n",
              "  .colab-df-quickchart-complete:disabled,\n",
              "  .colab-df-quickchart-complete:disabled:hover {\n",
              "    background-color: var(--disabled-bg-color);\n",
              "    fill: var(--disabled-fill-color);\n",
              "    box-shadow: none;\n",
              "  }\n",
              "\n",
              "  .colab-df-spinner {\n",
              "    border: 2px solid var(--fill-color);\n",
              "    border-color: transparent;\n",
              "    border-bottom-color: var(--fill-color);\n",
              "    animation:\n",
              "      spin 1s steps(1) infinite;\n",
              "  }\n",
              "\n",
              "  @keyframes spin {\n",
              "    0% {\n",
              "      border-color: transparent;\n",
              "      border-bottom-color: var(--fill-color);\n",
              "      border-left-color: var(--fill-color);\n",
              "    }\n",
              "    20% {\n",
              "      border-color: transparent;\n",
              "      border-left-color: var(--fill-color);\n",
              "      border-top-color: var(--fill-color);\n",
              "    }\n",
              "    30% {\n",
              "      border-color: transparent;\n",
              "      border-left-color: var(--fill-color);\n",
              "      border-top-color: var(--fill-color);\n",
              "      border-right-color: var(--fill-color);\n",
              "    }\n",
              "    40% {\n",
              "      border-color: transparent;\n",
              "      border-right-color: var(--fill-color);\n",
              "      border-top-color: var(--fill-color);\n",
              "    }\n",
              "    60% {\n",
              "      border-color: transparent;\n",
              "      border-right-color: var(--fill-color);\n",
              "    }\n",
              "    80% {\n",
              "      border-color: transparent;\n",
              "      border-right-color: var(--fill-color);\n",
              "      border-bottom-color: var(--fill-color);\n",
              "    }\n",
              "    90% {\n",
              "      border-color: transparent;\n",
              "      border-bottom-color: var(--fill-color);\n",
              "    }\n",
              "  }\n",
              "</style>\n",
              "\n",
              "  <script>\n",
              "    async function quickchart(key) {\n",
              "      const quickchartButtonEl =\n",
              "        document.querySelector('#' + key + ' button');\n",
              "      quickchartButtonEl.disabled = true;  // To prevent multiple clicks.\n",
              "      quickchartButtonEl.classList.add('colab-df-spinner');\n",
              "      try {\n",
              "        const charts = await google.colab.kernel.invokeFunction(\n",
              "            'suggestCharts', [key], {});\n",
              "      } catch (error) {\n",
              "        console.error('Error during call to suggestCharts:', error);\n",
              "      }\n",
              "      quickchartButtonEl.classList.remove('colab-df-spinner');\n",
              "      quickchartButtonEl.classList.add('colab-df-quickchart-complete');\n",
              "    }\n",
              "    (() => {\n",
              "      let quickchartButtonEl =\n",
              "        document.querySelector('#df-368ed94d-d927-4f5f-a6b9-ea60e48111a5 button');\n",
              "      quickchartButtonEl.style.display =\n",
              "        google.colab.kernel.accessAllowed ? 'block' : 'none';\n",
              "    })();\n",
              "  </script>\n",
              "</div>\n",
              "    </div>\n",
              "  </div>\n"
            ]
          },
          "metadata": {},
          "execution_count": 8
        }
      ],
      "source": [
        "df_tbh.head(3)"
      ]
    },
    {
      "cell_type": "code",
      "execution_count": 9,
      "id": "28bd05ee",
      "metadata": {
        "colab": {
          "base_uri": "https://localhost:8080/"
        },
        "id": "28bd05ee",
        "outputId": "f57e1fc4-1713-4408-c83a-305c1cdf9563"
      },
      "outputs": [
        {
          "output_type": "execute_result",
          "data": {
            "text/plain": [
              "Fitnah;Hasut;Hoax    9729\n",
              "Lain-lain             577\n",
              "Berita                 76\n",
              "Events                  2\n",
              "Name: Tags, dtype: int64"
            ]
          },
          "metadata": {},
          "execution_count": 9
        }
      ],
      "source": [
        "df_tbh['Tags'].value_counts()"
      ]
    },
    {
      "cell_type": "code",
      "execution_count": 10,
      "id": "491cc477",
      "metadata": {
        "id": "491cc477"
      },
      "outputs": [],
      "source": [
        "df_tbh['label'] = np.where(df_tbh['Tags'] == 'Fitnah;Hasut;Hoax', 1, 0)"
      ]
    },
    {
      "cell_type": "code",
      "execution_count": 11,
      "id": "1823c779",
      "metadata": {
        "id": "1823c779"
      },
      "outputs": [],
      "source": [
        "df_cnn = pd.read_excel('dataset_cnn_10k.xlsx')"
      ]
    },
    {
      "cell_type": "code",
      "execution_count": 12,
      "id": "fe0b0a6f",
      "metadata": {
        "id": "fe0b0a6f"
      },
      "outputs": [],
      "source": [
        "df_cnn['label'] = 0"
      ]
    },
    {
      "cell_type": "code",
      "execution_count": 13,
      "id": "795f8e4d",
      "metadata": {
        "id": "795f8e4d"
      },
      "outputs": [],
      "source": [
        "train_data = pd.concat([df_tbh, df_cnn], axis=0)"
      ]
    },
    {
      "cell_type": "code",
      "execution_count": 14,
      "id": "dea3e9d1",
      "metadata": {
        "id": "dea3e9d1"
      },
      "outputs": [],
      "source": [
        "train_data = train_data[['FullText', 'label']]"
      ]
    },
    {
      "cell_type": "code",
      "execution_count": 15,
      "id": "c84533a1",
      "metadata": {
        "colab": {
          "base_uri": "https://localhost:8080/"
        },
        "id": "c84533a1",
        "outputId": "fb5ea3cb-9c75-41c8-9fe3-241e5634f246"
      },
      "outputs": [
        {
          "output_type": "stream",
          "name": "stdout",
          "text": [
            "0    10655\n",
            "1     9729\n",
            "Name: label, dtype: int64\n",
            "0    52.271389\n",
            "1    47.728611\n",
            "Name: label, dtype: float64\n"
          ]
        }
      ],
      "source": [
        "print(train_data['label'].value_counts())\n",
        "print(train_data['label'].value_counts(normalize=True)*100)"
      ]
    },
    {
      "cell_type": "code",
      "execution_count": 17,
      "id": "bffef9fe",
      "metadata": {
        "colab": {
          "base_uri": "https://localhost:8080/",
          "height": 449
        },
        "id": "bffef9fe",
        "outputId": "f95de5aa-e41f-42c2-8492-b8a972909422"
      },
      "outputs": [
        {
          "output_type": "display_data",
          "data": {
            "text/plain": [
              "<Figure size 600x500 with 1 Axes>"
            ],
            "image/png": "[encoded data removed]"
          },
          "metadata": {}
        }
      ],
      "source": [
        "plt.figure(figsize=(6,5), facecolor='lightyellow')\n",
        "plt.pie(train_data['label'].value_counts(), autopct='%.2f%%', pctdistance = 1.25,startangle=85, textprops={'fontsize': 15},\n",
        "        colors=['indigo','darkorange'], shadow=True)\n",
        "my_circle=plt.Circle( (0,0), 0.6, color='lightyellow')\n",
        "p=plt.gcf()\n",
        "p.gca().add_artist(my_circle)\n",
        "\n",
        "plt.title('Hoax Label Proportion', fontsize=17, fontweight='bold')\n",
        "plt.legend(['No', 'Yes'], bbox_to_anchor=(1, 1), fontsize=12)\n",
        "\n",
        "\n",
        "plt.show()"
      ]
    },
    {
      "cell_type": "code",
      "execution_count": 16,
      "id": "ebf72d5e",
      "metadata": {
        "id": "ebf72d5e"
      },
      "outputs": [],
      "source": []
    },
    {
      "cell_type": "markdown",
      "id": "6ae2c7a2",
      "metadata": {
        "id": "6ae2c7a2"
      },
      "source": [
        "# Data Pre-Processing"
      ]
    },
    {
      "cell_type": "markdown",
      "id": "fb8e247d",
      "metadata": {
        "id": "fb8e247d"
      },
      "source": [
        "## Lower case"
      ]
    },
    {
      "cell_type": "code",
      "execution_count": 18,
      "id": "45ad7363",
      "metadata": {
        "id": "45ad7363"
      },
      "outputs": [],
      "source": [
        "def clean_lower(lwr):\n",
        "    lwr = lwr.lower() # lowercase text\n",
        "    return lwr\n",
        "\n",
        "\n",
        "train_data['text_lower'] = train_data['FullText'].astype(str).apply(clean_lower)"
      ]
    },
    {
      "cell_type": "code",
      "execution_count": 18,
      "id": "43e66f7d",
      "metadata": {
        "id": "43e66f7d"
      },
      "outputs": [],
      "source": []
    },
    {
      "cell_type": "markdown",
      "id": "d48e1daf",
      "metadata": {
        "id": "d48e1daf"
      },
      "source": [
        "## Remove Punctuation"
      ]
    },
    {
      "cell_type": "code",
      "execution_count": 19,
      "id": "da311430",
      "metadata": {
        "id": "da311430",
        "colab": {
          "base_uri": "https://localhost:8080/"
        },
        "outputId": "5206dd7a-dd19-47eb-ec9e-9158cdadfdab"
      },
      "outputs": [
        {
          "output_type": "stream",
          "name": "stderr",
          "text": [
            "[nltk_data] Downloading package stopwords to /root/nltk_data...\n",
            "[nltk_data]   Unzipping corpora/stopwords.zip.\n"
          ]
        }
      ],
      "source": [
        "clean_spcl = re.compile('[/(){}\\[\\]\\|@,;]')\n",
        "clean_symbol = re.compile('[^0-9a-z]')\n",
        "\n",
        "def clean_punct(text):\n",
        "    text = clean_spcl.sub('', text)\n",
        "    text = clean_symbol.sub(' ', text)\n",
        "    # Removing html tags\n",
        "    text = re.sub('<[^>]*>', '', text)\n",
        "    # Removing emails\n",
        "    text = re.sub('\\S*@\\S*\\s?', '', text)\n",
        "    # Removing urls\n",
        "    text = re.sub('https?://[A-Za-z0-9]','',text)\n",
        "    # Remove extra spaces & numbers\n",
        "    text = clean(text, extra_spaces=True, numbers=True)\n",
        "    return text\n",
        "\n",
        "\n",
        "# Buat kolom tambahan untuk data description yang telah diremovepunctuation\n",
        "train_data['clean_punct'] = train_data['text_lower'].apply(clean_punct)"
      ]
    },
    {
      "cell_type": "code",
      "execution_count": 19,
      "id": "62ebb032",
      "metadata": {
        "id": "62ebb032"
      },
      "outputs": [],
      "source": []
    },
    {
      "cell_type": "code",
      "source": [],
      "metadata": {
        "id": "wkSP0nHg-cfy"
      },
      "id": "wkSP0nHg-cfy",
      "execution_count": 19,
      "outputs": []
    },
    {
      "cell_type": "markdown",
      "source": [
        "# Remove Emoji"
      ],
      "metadata": {
        "id": "GVoDGHVQ-f_B"
      },
      "id": "GVoDGHVQ-f_B"
    },
    {
      "cell_type": "code",
      "source": [
        "def remove_emojis(data):\n",
        "    emoj = re.compile(\"[\"\n",
        "        u\"\\U00002700-\\U000027BF\"  # Dingbats\n",
        "        u\"\\U0001F600-\\U0001F64F\"  # Emoticons\n",
        "        u\"\\U00002600-\\U000026FF\"  # Miscellaneous Symbols\n",
        "        u\"\\U0001F300-\\U0001F5FF\"  # Miscellaneous Symbols And Pictographs\n",
        "        u\"\\U0001F900-\\U0001F9FF\"  # Supplemental Symbols and Pictographs\n",
        "        u\"\\U0001FA70-\\U0001FAFF\"  # Symbols and Pictographs Extended-A\n",
        "        u\"\\U0001F680-\\U0001F6FF\"  # Transport and Map Symbols\n",
        "                      \"]+\", re.UNICODE)\n",
        "    return re.sub(emoj, '', data)\n",
        "\n",
        "train_data['remove_emoji'] = train_data['clean_punct'].apply(remove_emojis)"
      ],
      "metadata": {
        "id": "ALP1Nb4u-ciV"
      },
      "id": "ALP1Nb4u-ciV",
      "execution_count": 20,
      "outputs": []
    },
    {
      "cell_type": "markdown",
      "id": "5002e61f",
      "metadata": {
        "id": "5002e61f"
      },
      "source": [
        "## Remove double whitespace"
      ]
    },
    {
      "cell_type": "code",
      "execution_count": 21,
      "id": "45988785",
      "metadata": {
        "id": "45988785"
      },
      "outputs": [],
      "source": [
        "def _normalize_whitespace(text):\n",
        "    corrected = str(text)\n",
        "    corrected = re.sub(r\"//t\",r\"\\t\", corrected)\n",
        "    corrected = re.sub(r\"( )\\1+\",r\"\\1\", corrected)\n",
        "    corrected = re.sub(r\"(\\n)\\1+\",r\"\\1\", corrected)\n",
        "    corrected = re.sub(r\"(\\r)\\1+\",r\"\\1\", corrected)\n",
        "    corrected = re.sub(r\"(\\t)\\1+\",r\"\\1\", corrected)\n",
        "    return corrected.strip(\" \")\n",
        "\n",
        "train_data['clean_double_ws'] = train_data['remove_emoji'].apply(_normalize_whitespace)"
      ]
    },
    {
      "cell_type": "code",
      "execution_count": 21,
      "id": "13d85697",
      "metadata": {
        "id": "13d85697"
      },
      "outputs": [],
      "source": []
    },
    {
      "cell_type": "markdown",
      "id": "19497935",
      "metadata": {
        "id": "19497935"
      },
      "source": [
        "## Detecting languages on article. Only take Indonesia"
      ]
    },
    {
      "cell_type": "code",
      "execution_count": 22,
      "id": "426e9a9e",
      "metadata": {
        "id": "426e9a9e"
      },
      "outputs": [],
      "source": [
        "def language_detect(text):\n",
        "    text = detect(text)\n",
        "    return text"
      ]
    },
    {
      "cell_type": "code",
      "execution_count": 23,
      "id": "a9f5ad70",
      "metadata": {
        "id": "a9f5ad70"
      },
      "outputs": [],
      "source": [
        "train_data['language'] = train_data['clean_double_ws'].apply(language_detect)"
      ]
    },
    {
      "cell_type": "code",
      "execution_count": 24,
      "id": "61fd82ec",
      "metadata": {
        "colab": {
          "base_uri": "https://localhost:8080/"
        },
        "id": "61fd82ec",
        "outputId": "994b6cbd-4168-4e85-8e8a-129ad72efdd8"
      },
      "outputs": [
        {
          "output_type": "execute_result",
          "data": {
            "text/plain": [
              "id    19789\n",
              "tl      372\n",
              "en      209\n",
              "da       12\n",
              "it        1\n",
              "nl        1\n",
              "Name: language, dtype: int64"
            ]
          },
          "metadata": {},
          "execution_count": 24
        }
      ],
      "source": [
        "train_data['language'].value_counts()"
      ]
    },
    {
      "cell_type": "code",
      "execution_count": 25,
      "id": "4ac565e4",
      "metadata": {
        "id": "4ac565e4"
      },
      "outputs": [],
      "source": [
        "train_data = train_data[(train_data['language'] == 'id')]"
      ]
    },
    {
      "cell_type": "code",
      "execution_count": 25,
      "id": "9b589f6d",
      "metadata": {
        "id": "9b589f6d"
      },
      "outputs": [],
      "source": []
    },
    {
      "cell_type": "markdown",
      "id": "3709eb15",
      "metadata": {
        "id": "3709eb15"
      },
      "source": [
        "## Lemmatization"
      ]
    },
    {
      "cell_type": "code",
      "execution_count": 26,
      "id": "95cdae72",
      "metadata": {
        "id": "95cdae72"
      },
      "outputs": [],
      "source": [
        "lemmatizer = Lemmatizer()\n",
        "def lemmatization(text):\n",
        "    text = lemmatizer.lemmatize(text)\n",
        "    return text"
      ]
    },
    {
      "cell_type": "code",
      "execution_count": 27,
      "id": "eaa597c2",
      "metadata": {
        "id": "eaa597c2"
      },
      "outputs": [],
      "source": [
        "train_data['lemmatization'] = train_data['clean_double_ws'].apply(lemmatization)"
      ]
    },
    {
      "cell_type": "code",
      "execution_count": 27,
      "id": "0c5e98dc",
      "metadata": {
        "id": "0c5e98dc"
      },
      "outputs": [],
      "source": []
    },
    {
      "cell_type": "markdown",
      "id": "f13e5178",
      "metadata": {
        "id": "f13e5178"
      },
      "source": [
        "## Stopwords"
      ]
    },
    {
      "cell_type": "code",
      "execution_count": 28,
      "id": "c8a6f1e4",
      "metadata": {
        "id": "c8a6f1e4"
      },
      "outputs": [],
      "source": [
        "stopword = StopWord()"
      ]
    },
    {
      "cell_type": "code",
      "execution_count": 29,
      "id": "3d9c766e",
      "metadata": {
        "id": "3d9c766e"
      },
      "outputs": [],
      "source": [
        "stopword = StopWord()\n",
        "def stopword_id(text):\n",
        "    text = stopword.remove_stopword(text)\n",
        "    return text"
      ]
    },
    {
      "cell_type": "code",
      "execution_count": 30,
      "id": "77409640",
      "metadata": {
        "id": "77409640"
      },
      "outputs": [],
      "source": [
        "train_data['stopword'] = train_data['lemmatization'].apply(stopword_id)"
      ]
    },
    {
      "cell_type": "code",
      "execution_count": 30,
      "id": "e96adb95",
      "metadata": {
        "id": "e96adb95"
      },
      "outputs": [],
      "source": []
    },
    {
      "cell_type": "code",
      "execution_count": null,
      "id": "2bb1e85c",
      "metadata": {
        "id": "2bb1e85c"
      },
      "outputs": [],
      "source": []
    },
    {
      "cell_type": "markdown",
      "id": "335860a9",
      "metadata": {
        "id": "335860a9"
      },
      "source": [
        "# Data Split"
      ]
    },
    {
      "cell_type": "code",
      "execution_count": null,
      "id": "58e1fdce",
      "metadata": {
        "id": "58e1fdce"
      },
      "outputs": [],
      "source": [
        "data_y = train_data['label']"
      ]
    },
    {
      "cell_type": "code",
      "execution_count": null,
      "id": "03864f45",
      "metadata": {
        "id": "03864f45"
      },
      "outputs": [],
      "source": [
        "x_train, x_test, y_train, y_test = train_test_split(train_data['stopword'], data_y, test_size=0.3, random_state=77)"
      ]
    },
    {
      "cell_type": "code",
      "execution_count": null,
      "id": "31b456aa",
      "metadata": {
        "colab": {
          "base_uri": "https://localhost:8080/"
        },
        "id": "31b456aa",
        "outputId": "373e9e19-c47d-435a-8b7e-ce4b55a9c946"
      },
      "outputs": [
        {
          "output_type": "stream",
          "name": "stdout",
          "text": [
            "x_train :  13851\n",
            "x_test :  5937\n"
          ]
        }
      ],
      "source": [
        "print('x_train : ', len(x_train))\n",
        "print('x_test : ', len(x_test))"
      ]
    },
    {
      "cell_type": "code",
      "execution_count": null,
      "id": "b64e3df5",
      "metadata": {
        "id": "b64e3df5"
      },
      "outputs": [],
      "source": [
        "Encoder = LabelEncoder()\n",
        "ohe_enc = Encoder.fit(y_train)\n",
        "y_train = ohe_enc.transform(y_train)\n",
        "y_test = ohe_enc.transform(y_test)"
      ]
    },
    {
      "cell_type": "markdown",
      "id": "4ab9e958",
      "metadata": {
        "id": "4ab9e958"
      },
      "source": [
        "# Load word2vec"
      ]
    },
    {
      "cell_type": "code",
      "source": [
        "from google.colab import drive\n",
        "drive.mount('/content/drive')"
      ],
      "metadata": {
        "colab": {
          "base_uri": "https://localhost:8080/"
        },
        "id": "8S9Nne7MDRb6",
        "outputId": "e1b7350e-e16b-4227-8848-ba2e6c42d124"
      },
      "id": "8S9Nne7MDRb6",
      "execution_count": null,
      "outputs": [
        {
          "output_type": "stream",
          "name": "stdout",
          "text": [
            "Mounted at /content/drive\n"
          ]
        }
      ]
    },
    {
      "cell_type": "code",
      "execution_count": null,
      "id": "4073508b",
      "metadata": {
        "id": "4073508b"
      },
      "outputs": [],
      "source": [
        "from gensim.models import KeyedVectors\n",
        "filename = '/content/drive/MyDrive/Glove/glove.6B.100d.txt.word2vec'\n",
        "w2v_model = KeyedVectors.load_word2vec_format(filename, binary=False)"
      ]
    },
    {
      "cell_type": "code",
      "execution_count": null,
      "id": "a4423f7c",
      "metadata": {
        "id": "a4423f7c"
      },
      "outputs": [],
      "source": [
        "def vectorize(sentence):\n",
        "    words = sentence.split()\n",
        "    words_vecs = [w2v_model[word] for word in words if word in w2v_model]\n",
        "    if len(words_vecs) == 0:\n",
        "        return np.zeros(50)\n",
        "    words_vecs = np.array(words_vecs)\n",
        "    return words_vecs.mean(axis=0)\n",
        "\n",
        "x_train = np.array([vectorize(sentence) for sentence in x_train])\n",
        "x_test = np.array([vectorize(sentence) for sentence in x_test])"
      ]
    },
    {
      "cell_type": "markdown",
      "id": "c56dbe7d",
      "metadata": {
        "id": "c56dbe7d"
      },
      "source": [
        "# Modeling"
      ]
    },
    {
      "cell_type": "code",
      "execution_count": null,
      "id": "4ab21e18",
      "metadata": {
        "colab": {
          "base_uri": "https://localhost:8080/"
        },
        "id": "4ab21e18",
        "outputId": "2d742f1f-f837-4ac7-bf33-6281858ae86f"
      },
      "outputs": [
        {
          "output_type": "stream",
          "name": "stdout",
          "text": [
            "[[2895  210]\n",
            " [ 153 2679]]\n",
            "Akurasi dari Multilayer Perceptron adalah: 93.88580090955028\n",
            "Recall dari Multilayer Perceptron adalah: 94.59745762711864\n",
            "Precision dari Multilayer Perceptron adalah: 92.73104880581516\n",
            "F1 dari Multilayer Perceptron adalah: 93.65495542737284\n"
          ]
        }
      ],
      "source": [
        "mlp = MLPClassifier(max_iter=120, random_state=5, hidden_layer_sizes=(110, 30), activation='tanh', learning_rate='adaptive')\n",
        "mlp.fit(x_train, y_train)\n",
        "\n",
        "predictionmlp_test = mlp.predict(x_test)\n",
        "print(confusion_matrix(y_test, predictionmlp_test))\n",
        "print(\"Akurasi dari Multilayer Perceptron adalah:\", (accuracy_score(y_test, predictionmlp_test)*100) )\n",
        "print(\"Recall dari Multilayer Perceptron adalah:\",recall_score(y_test, predictionmlp_test)*100)\n",
        "print(\"Precision dari Multilayer Perceptron adalah:\",precision_score(y_test, predictionmlp_test)*100)\n",
        "print(\"F1 dari Multilayer Perceptron adalah:\",f1_score(y_test, predictionmlp_test)*100)"
      ]
    },
    {
      "cell_type": "code",
      "execution_count": null,
      "id": "9c466060",
      "metadata": {
        "colab": {
          "base_uri": "https://localhost:8080/"
        },
        "id": "9c466060",
        "outputId": "c8c8f54e-d50d-4cf3-b1c7-52b5532603c7"
      },
      "outputs": [
        {
          "output_type": "stream",
          "name": "stdout",
          "text": [
            "[[6837  335]\n",
            " [ 127 6552]]\n",
            "Akurasi Training dari Multilayer Perceptron adalah: 96.664500758068\n",
            "Recall Training dari Multilayer Perceptron adalah: 98.09851774217697\n",
            "Precision Training dari Multilayer Perceptron adalah: 95.13576303179903\n",
            "F1 Training dari Multilayer Perceptron adalah: 96.59442724458202\n"
          ]
        }
      ],
      "source": [
        "predictionmlp_train = mlp.predict(x_train)\n",
        "print(confusion_matrix(y_train, predictionmlp_train))\n",
        "print(\"Akurasi Training dari Multilayer Perceptron adalah:\", (accuracy_score(y_train, predictionmlp_train)*100) )\n",
        "print(\"Recall Training dari Multilayer Perceptron adalah:\",recall_score(y_train, predictionmlp_train)*100)\n",
        "print(\"Precision Training dari Multilayer Perceptron adalah:\",precision_score(y_train, predictionmlp_train)*100)\n",
        "print(\"F1 Training dari Multilayer Perceptron adalah:\",f1_score(y_train, predictionmlp_train)*100)"
      ]
    },
    {
      "cell_type": "code",
      "execution_count": null,
      "id": "e99ff62e",
      "metadata": {
        "colab": {
          "base_uri": "https://localhost:8080/"
        },
        "id": "e99ff62e",
        "outputId": "63feb10a-3da9-4354-d541-b41afe88ce39"
      },
      "outputs": [
        {
          "output_type": "stream",
          "name": "stdout",
          "text": [
            "Training Accuracy: 0.9666450075806801\n",
            "Testing Accuracy: 0.9388580090955028\n",
            "              precision    recall  f1-score   support\n",
            "\n",
            "           0       0.95      0.93      0.94      3105\n",
            "           1       0.93      0.95      0.94      2832\n",
            "\n",
            "    accuracy                           0.94      5937\n",
            "   macro avg       0.94      0.94      0.94      5937\n",
            "weighted avg       0.94      0.94      0.94      5937\n",
            "\n"
          ]
        }
      ],
      "source": [
        "prediction_test = mlp.predict(x_test)\n",
        "prediction_train = mlp.predict(x_train)\n",
        "training_acc = accuracy_score(y_train, prediction_train)\n",
        "testing_acc = accuracy_score(y_test, prediction_test)\n",
        "\n",
        "print(\"Training Accuracy: {}\".format(training_acc))\n",
        "print(\"Testing Accuracy: {}\".format(testing_acc))\n",
        "print(classification_report(y_test, prediction_test))"
      ]
    },
    {
      "cell_type": "code",
      "execution_count": null,
      "id": "9fd18289",
      "metadata": {
        "colab": {
          "base_uri": "https://localhost:8080/"
        },
        "id": "9fd18289",
        "outputId": "32a11345-b401-4581-e151-8bcddb4cc2c2"
      },
      "outputs": [
        {
          "output_type": "stream",
          "name": "stdout",
          "text": [
            "Training Accuracy: 0.9666450075806801\n",
            "Testing Accuracy: 0.9388580090955028\n",
            "              precision    recall  f1-score   support\n",
            "\n",
            "           0       0.98      0.95      0.97      7172\n",
            "           1       0.95      0.98      0.97      6679\n",
            "\n",
            "    accuracy                           0.97     13851\n",
            "   macro avg       0.97      0.97      0.97     13851\n",
            "weighted avg       0.97      0.97      0.97     13851\n",
            "\n"
          ]
        }
      ],
      "source": [
        "prediction_test = mlp.predict(x_test)\n",
        "prediction_train = mlp.predict(x_train)\n",
        "training_acc = accuracy_score(y_train, prediction_train)\n",
        "testing_acc = accuracy_score(y_test, prediction_test)\n",
        "\n",
        "print(\"Training Accuracy: {}\".format(training_acc))\n",
        "print(\"Testing Accuracy: {}\".format(testing_acc))\n",
        "print(classification_report(y_train, prediction_train))"
      ]
    },
    {
      "cell_type": "code",
      "execution_count": null,
      "id": "9868a8f1",
      "metadata": {
        "id": "9868a8f1"
      },
      "outputs": [],
      "source": []
    },
    {
      "cell_type": "code",
      "execution_count": null,
      "id": "6da41af7",
      "metadata": {
        "id": "6da41af7"
      },
      "outputs": [],
      "source": []
    },
    {
      "cell_type": "markdown",
      "id": "581c8dff",
      "metadata": {
        "id": "581c8dff"
      },
      "source": [
        "# Analysis"
      ]
    },
    {
      "cell_type": "code",
      "execution_count": null,
      "id": "59a7765f",
      "metadata": {
        "id": "59a7765f"
      },
      "outputs": [],
      "source": [
        "x_train, x_test, y_train, y_test = train_test_split(train_data['stopword'], data_y, test_size=0.3, random_state=77)"
      ]
    },
    {
      "cell_type": "code",
      "execution_count": null,
      "id": "d964d6f1",
      "metadata": {
        "id": "d964d6f1"
      },
      "outputs": [],
      "source": [
        "train_words = pd.DataFrame(x_train.tolist(), columns=['word'])\n",
        "words_train = {\n",
        "    x for x in ' '.join(\n",
        "        train_words.word.tolist()\n",
        "    ).split() if x.isalpha()\n",
        "}"
      ]
    },
    {
      "cell_type": "code",
      "execution_count": null,
      "id": "5d6c24b6",
      "metadata": {
        "id": "5d6c24b6"
      },
      "outputs": [],
      "source": [
        "test_words = pd.DataFrame(x_test.tolist(), columns=['word'])\n",
        "words_test = {\n",
        "    x for x in ' '.join(\n",
        "        test_words.word.tolist()\n",
        "    ).split() if x.isalpha()\n",
        "}"
      ]
    },
    {
      "cell_type": "code",
      "execution_count": null,
      "id": "2386d3d8",
      "metadata": {
        "id": "2386d3d8"
      },
      "outputs": [],
      "source": [
        "word_no_test = []\n",
        "for i in words_train:\n",
        "    if i not in words_test:\n",
        "        word_no_test.append(i)"
      ]
    },
    {
      "cell_type": "code",
      "execution_count": null,
      "id": "f7d0ddc8",
      "metadata": {
        "colab": {
          "base_uri": "https://localhost:8080/"
        },
        "id": "f7d0ddc8",
        "outputId": "5caa0e61-b210-4d2d-c771-3a0835bd5e21"
      },
      "outputs": [
        {
          "output_type": "execute_result",
          "data": {
            "text/plain": [
              "81101"
            ]
          },
          "metadata": {},
          "execution_count": 52
        }
      ],
      "source": [
        "len(word_no_test)"
      ]
    },
    {
      "cell_type": "code",
      "execution_count": null,
      "id": "e99d10f8",
      "metadata": {
        "id": "e99d10f8"
      },
      "outputs": [],
      "source": [
        "word_no_train = []\n",
        "for i in words_test:\n",
        "    if i not in words_train:\n",
        "        word_no_train.append(i)"
      ]
    },
    {
      "cell_type": "code",
      "execution_count": null,
      "id": "88eefdb3",
      "metadata": {
        "colab": {
          "base_uri": "https://localhost:8080/"
        },
        "id": "88eefdb3",
        "outputId": "90784e4b-570d-4b77-bbae-5bfe30e75710"
      },
      "outputs": [
        {
          "output_type": "execute_result",
          "data": {
            "text/plain": [
              "31305"
            ]
          },
          "metadata": {},
          "execution_count": 54
        }
      ],
      "source": [
        "len(word_no_train)"
      ]
    },
    {
      "cell_type": "code",
      "execution_count": null,
      "id": "2455dc3f",
      "metadata": {
        "id": "2455dc3f"
      },
      "outputs": [],
      "source": []
    },
    {
      "cell_type": "code",
      "execution_count": null,
      "id": "791aa75d",
      "metadata": {
        "id": "791aa75d"
      },
      "outputs": [],
      "source": []
    },
    {
      "cell_type": "code",
      "execution_count": null,
      "id": "18fc2a6a",
      "metadata": {
        "colab": {
          "base_uri": "https://localhost:8080/"
        },
        "id": "18fc2a6a",
        "outputId": "82a89c1e-1e14-4af4-a61f-2e9a895a2702"
      },
      "outputs": [
        {
          "output_type": "stream",
          "name": "stdout",
          "text": [
            "[('covid', 20), ('prakerja', 19), ('https', 18), ('video', 17), ('partai', 16), ('pusat', 15), ('bandara', 15), ('kerja', 14), ('lihat', 13), ('tak', 13)]\n"
          ]
        }
      ],
      "source": [
        "from collections import Counter\n",
        "\n",
        "# split() returns list of all the words in the string\n",
        "split_it = str(x_test).split()\n",
        "\n",
        "# Pass the split_it list to instance of Counter class.\n",
        "Counters_found = Counter(split_it)\n",
        "#print(Counters)\n",
        "\n",
        "# most_common() produces k frequently encountered\n",
        "# input values and their respective counts.\n",
        "most_occur = Counters_found.most_common(10)\n",
        "df_test_occ = pd.DataFrame(most_occur, columns=['word', 'count'])\n",
        "print(most_occur)"
      ]
    },
    {
      "cell_type": "code",
      "execution_count": null,
      "id": "09d5fdf9",
      "metadata": {
        "colab": {
          "base_uri": "https://localhost:8080/"
        },
        "id": "09d5fdf9",
        "outputId": "b61ace3a-0d98-4e95-a2bf-b95af3326f50"
      },
      "outputs": [
        {
          "output_type": "stream",
          "name": "stdout",
          "text": [
            "[('https', 23), ('kendari', 22), ('dandim', 20), ('indonesia', 18), ('orang', 15), ('jabat', 15), ('facebook', 14), ('ahok', 14), ('rudi', 14), ('presiden', 13)]\n"
          ]
        }
      ],
      "source": [
        "from collections import Counter\n",
        "\n",
        "# split() returns list of all the words in the string\n",
        "split_it = str(x_train).split()\n",
        "\n",
        "# Pass the split_it list to instance of Counter class.\n",
        "Counters_found = Counter(split_it)\n",
        "#print(Counters)\n",
        "\n",
        "# most_common() produces k frequently encountered\n",
        "# input values and their respective counts.\n",
        "most_occur = Counters_found.most_common(10)\n",
        "df_train_occ = pd.DataFrame(most_occur, columns=['word', 'count'])\n",
        "print(most_occur)"
      ]
    },
    {
      "cell_type": "code",
      "execution_count": null,
      "id": "98125aa3",
      "metadata": {
        "colab": {
          "base_uri": "https://localhost:8080/",
          "height": 430
        },
        "id": "98125aa3",
        "outputId": "690b21f6-3ebc-4920-e977-66fed95ed3ee"
      },
      "outputs": [
        {
          "output_type": "display_data",
          "data": {
            "text/plain": [
              "<Figure size 1440x480 with 1 Axes>"
            ],
            "image/png": "[encoded data removed]"
          },
          "metadata": {}
        }
      ],
      "source": [
        "plt.figure(figsize=(18, 6), dpi=80)\n",
        "sns.barplot(data = df_train_occ, x = 'word', y = 'count')\n",
        "plt.title('Top 10 Frequent words in Data Train')\n",
        "\n",
        "plt.show()"
      ]
    },
    {
      "cell_type": "code",
      "execution_count": null,
      "id": "228bef80",
      "metadata": {
        "colab": {
          "base_uri": "https://localhost:8080/",
          "height": 427
        },
        "id": "228bef80",
        "outputId": "d2ede853-819d-475c-83b6-d0cd8abf2da7"
      },
      "outputs": [
        {
          "output_type": "display_data",
          "data": {
            "text/plain": [
              "<Figure size 1440x480 with 1 Axes>"
            ],
            "image/png": "[encoded data removed]"
          },
          "metadata": {}
        }
      ],
      "source": [
        "plt.figure(figsize=(18, 6), dpi=80)\n",
        "sns.barplot(data = df_test_occ, x = 'word', y = 'count')\n",
        "plt.title('Top 10 Frequent words in Data Test')\n",
        "\n",
        "plt.show()"
      ]
    },
    {
      "cell_type": "code",
      "execution_count": null,
      "id": "8afca74e",
      "metadata": {
        "id": "8afca74e"
      },
      "outputs": [],
      "source": []
    },
    {
      "cell_type": "code",
      "execution_count": null,
      "id": "4954e772",
      "metadata": {
        "id": "4954e772"
      },
      "outputs": [],
      "source": [
        "df_xtest = pd.DataFrame(x_test)\n",
        "df_ytest = pd.DataFrame(y_test)\n",
        "df_ypred = pd.DataFrame(prediction_test, columns=['prediction'])"
      ]
    },
    {
      "cell_type": "code",
      "execution_count": null,
      "id": "b90fd32f",
      "metadata": {
        "colab": {
          "base_uri": "https://localhost:8080/"
        },
        "id": "b90fd32f",
        "outputId": "cb4c6932-19a3-4feb-945a-3935c20f3d18"
      },
      "outputs": [
        {
          "output_type": "execute_result",
          "data": {
            "text/plain": [
              "(5937, 1)"
            ]
          },
          "metadata": {},
          "execution_count": 60
        }
      ],
      "source": [
        "df_ypred.shape"
      ]
    },
    {
      "cell_type": "code",
      "execution_count": null,
      "id": "5548e8fd",
      "metadata": {
        "id": "5548e8fd"
      },
      "outputs": [],
      "source": [
        "test_result = pd.concat([df_xtest, df_ytest], axis=1, ignore_index=True).reset_index()\n",
        "test_result = pd.concat([test_result, df_ypred], axis=1, ignore_index=True)\n",
        "test_result = test_result.rename(columns={1:'words', 2:'label', 3:'prediction'}).drop(0, axis=1)"
      ]
    },
    {
      "cell_type": "code",
      "execution_count": null,
      "id": "1cbeb73b",
      "metadata": {
        "id": "1cbeb73b"
      },
      "outputs": [],
      "source": [
        "df_fp = test_result[(test_result['label'] == 0) & (test_result['prediction'] == 1)]"
      ]
    },
    {
      "cell_type": "code",
      "execution_count": null,
      "id": "e5684a85",
      "metadata": {
        "id": "e5684a85"
      },
      "outputs": [],
      "source": [
        "df_fn = test_result[(test_result['label'] == 1) & (test_result['prediction'] == 0)]"
      ]
    },
    {
      "cell_type": "code",
      "execution_count": null,
      "id": "85405cdc",
      "metadata": {
        "id": "85405cdc"
      },
      "outputs": [],
      "source": [
        "df_tp = test_result[(test_result['label'] == 1) & (test_result['prediction'] == 1)]"
      ]
    },
    {
      "cell_type": "code",
      "execution_count": null,
      "id": "e8d89f44",
      "metadata": {
        "id": "e8d89f44"
      },
      "outputs": [],
      "source": [
        "df_tn = test_result[(test_result['label'] == 0) & (test_result['prediction'] == 0)]"
      ]
    },
    {
      "cell_type": "code",
      "execution_count": null,
      "id": "0cd84a92",
      "metadata": {
        "colab": {
          "base_uri": "https://localhost:8080/"
        },
        "id": "0cd84a92",
        "outputId": "1d70cdc4-a110-4bb6-9ec2-6069736e4099"
      },
      "outputs": [
        {
          "output_type": "stream",
          "name": "stdout",
          "text": [
            "[('shalat', 39), ('jalan', 29), ('https', 25), ('masjid', 24), ('akun', 22), ('facebook', 20), ('presiden', 19), ('pocong', 18), ('listrik', 18), ('jakarta', 18)]\n"
          ]
        }
      ],
      "source": [
        "from collections import Counter\n",
        "\n",
        "# split() returns list of all the words in the string\n",
        "split_it = str(df_fp['words']).split()\n",
        "\n",
        "# Pass the split_it list to instance of Counter class.\n",
        "Counters_found = Counter(split_it)\n",
        "#print(Counters)\n",
        "\n",
        "# most_common() produces k frequently encountered\n",
        "# input values and their respective counts.\n",
        "most_occur = Counters_found.most_common(10)\n",
        "occ_fp_test = pd.DataFrame(most_occur, columns=['word', 'count'])\n",
        "print(most_occur)"
      ]
    },
    {
      "cell_type": "code",
      "execution_count": null,
      "id": "5e059474",
      "metadata": {
        "colab": {
          "base_uri": "https://localhost:8080/",
          "height": 430
        },
        "id": "5e059474",
        "outputId": "b9bff683-2247-4e9d-acc7-d03c8b3d812d"
      },
      "outputs": [
        {
          "output_type": "display_data",
          "data": {
            "text/plain": [
              "<Figure size 1440x480 with 1 Axes>"
            ],
            "image/png": "[encoded data removed]"
          },
          "metadata": {}
        }
      ],
      "source": [
        "plt.figure(figsize=(18, 6), dpi=80)\n",
        "ax = sns.barplot(data = occ_fp_test, x = 'word', y = 'count')\n",
        "plt.title('Top 10 Frequent words in False Positive Data Test')\n",
        "for p in ax.patches:\n",
        "    ax.annotate(f'\\n{p.get_height()}', (p.get_x()+0.4, p.get_height()), ha='center', va='top', color='white', size=11)\n",
        "\n",
        "plt.show()"
      ]
    },
    {
      "cell_type": "code",
      "execution_count": null,
      "id": "3a6e6891",
      "metadata": {
        "colab": {
          "base_uri": "https://localhost:8080/"
        },
        "id": "3a6e6891",
        "outputId": "c1c9d5d3-1ac4-4c4b-e38e-365039c59920"
      },
      "outputs": [
        {
          "output_type": "stream",
          "name": "stdout",
          "text": [
            "[('ugm', 36), ('presiden', 35), ('stan', 27), ('https', 26), ('negara', 26), ('indonesia', 23), ('kewarganegaraan', 22), ('laku', 21), ('jokowi', 21), ('berita', 19)]\n"
          ]
        }
      ],
      "source": [
        "from collections import Counter\n",
        "\n",
        "# split() returns list of all the words in the string\n",
        "split_it = str(df_fn['words']).split()\n",
        "\n",
        "# Pass the split_it list to instance of Counter class.\n",
        "Counters_found = Counter(split_it)\n",
        "#print(Counters)\n",
        "\n",
        "# most_common() produces k frequently encountered\n",
        "# input values and their respective counts.\n",
        "most_occur = Counters_found.most_common(10)\n",
        "occ_fn_test = pd.DataFrame(most_occur, columns=['word', 'count'])\n",
        "print(most_occur)"
      ]
    },
    {
      "cell_type": "code",
      "execution_count": null,
      "id": "906a6833",
      "metadata": {
        "colab": {
          "base_uri": "https://localhost:8080/",
          "height": 430
        },
        "id": "906a6833",
        "outputId": "89ef6452-2eea-4c4e-c8b1-ef615db31765"
      },
      "outputs": [
        {
          "output_type": "display_data",
          "data": {
            "text/plain": [
              "<Figure size 1440x480 with 1 Axes>"
            ],
            "image/png": "[encoded data removed]"
          },
          "metadata": {}
        }
      ],
      "source": [
        "plt.figure(figsize=(18, 6), dpi=80)\n",
        "ax = sns.barplot(data = occ_fn_test, x = 'word', y = 'count')\n",
        "plt.title('Top 10 Frequent words in False Negative Data Test')\n",
        "for p in ax.patches:\n",
        "    ax.annotate(f'\\n{p.get_height()}', (p.get_x()+0.4, p.get_height()), ha='center', va='top', color='white', size=11)\n",
        "\n",
        "plt.show()"
      ]
    },
    {
      "cell_type": "code",
      "execution_count": null,
      "id": "a3a5a8c5",
      "metadata": {
        "colab": {
          "base_uri": "https://localhost:8080/"
        },
        "id": "a3a5a8c5",
        "outputId": "e0b10c62-f893-4ff3-936f-88896aea1c3c"
      },
      "outputs": [
        {
          "output_type": "stream",
          "name": "stdout",
          "text": [
            "[('https', 27), ('video', 22), ('covid', 20), ('artikel', 20), ('prakerja', 19), ('judul', 18), ('jalan', 18), ('surat', 17), ('narasi', 15), ('fakta', 15)]\n"
          ]
        }
      ],
      "source": [
        "from collections import Counter\n",
        "\n",
        "# split() returns list of all the words in the string\n",
        "split_it = str(df_tp['words']).split()\n",
        "\n",
        "# Pass the split_it list to instance of Counter class.\n",
        "Counters_found = Counter(split_it)\n",
        "#print(Counters)\n",
        "\n",
        "# most_common() produces k frequently encountered\n",
        "# input values and their respective counts.\n",
        "most_occur = Counters_found.most_common(10)\n",
        "occ_tp_test = pd.DataFrame(most_occur, columns=['word', 'count'])\n",
        "print(most_occur)"
      ]
    },
    {
      "cell_type": "code",
      "execution_count": null,
      "id": "db85d283",
      "metadata": {
        "colab": {
          "base_uri": "https://localhost:8080/",
          "height": 430
        },
        "id": "db85d283",
        "outputId": "648929e8-ad56-4749-fb76-0f5241d8b669"
      },
      "outputs": [
        {
          "output_type": "display_data",
          "data": {
            "text/plain": [
              "<Figure size 1440x480 with 1 Axes>"
            ],
            "image/png": "[encoded data removed]"
          },
          "metadata": {}
        }
      ],
      "source": [
        "plt.figure(figsize=(18, 6), dpi=80)\n",
        "ax = sns.barplot(data = occ_tp_test, x = 'word', y = 'count')\n",
        "plt.title('Top 10 Frequent words in True Positive Data Test')\n",
        "for p in ax.patches:\n",
        "    ax.annotate(f'\\n{p.get_height()}', (p.get_x()+0.4, p.get_height()), ha='center', va='top', color='white', size=11)\n",
        "\n",
        "plt.show()"
      ]
    },
    {
      "cell_type": "code",
      "execution_count": null,
      "id": "0b319550",
      "metadata": {
        "colab": {
          "base_uri": "https://localhost:8080/"
        },
        "id": "0b319550",
        "outputId": "cc3b66b9-66bb-4b53-cd19-d0393f74d166"
      },
      "outputs": [
        {
          "output_type": "stream",
          "name": "stdout",
          "text": [
            "[('dpr', 29), ('partai', 27), ('lihat', 26), ('papua', 25), ('milu', 24), ('cnn', 20), ('presiden', 19), ('jokowi', 19), ('indonesia', 17), ('jakarta', 16)]\n"
          ]
        }
      ],
      "source": [
        "from collections import Counter\n",
        "\n",
        "# split() returns list of all the words in the string\n",
        "split_it = str(df_tn['words']).split()\n",
        "\n",
        "# Pass the split_it list to instance of Counter class.\n",
        "Counters_found = Counter(split_it)\n",
        "#print(Counters)\n",
        "\n",
        "# most_common() produces k frequently encountered\n",
        "# input values and their respective counts.\n",
        "most_occur = Counters_found.most_common(10)\n",
        "occ_tn_test = pd.DataFrame(most_occur, columns=['word', 'count'])\n",
        "print(most_occur)"
      ]
    },
    {
      "cell_type": "code",
      "execution_count": null,
      "id": "5f46703c",
      "metadata": {
        "colab": {
          "base_uri": "https://localhost:8080/",
          "height": 430
        },
        "id": "5f46703c",
        "outputId": "f270c370-0721-498d-f8c5-91405393a7a8"
      },
      "outputs": [
        {
          "output_type": "display_data",
          "data": {
            "text/plain": [
              "<Figure size 1440x480 with 1 Axes>"
            ],
            "image/png": "[encoded data removed]"
          },
          "metadata": {}
        }
      ],
      "source": [
        "plt.figure(figsize=(18, 6), dpi=80)\n",
        "ax = sns.barplot(data = occ_tn_test, x = 'word', y = 'count')\n",
        "plt.title('Top 10 Frequent words in True Negative Data Test')\n",
        "for p in ax.patches:\n",
        "    ax.annotate(f'\\n{p.get_height()}', (p.get_x()+0.4, p.get_height()), ha='center', va='top', color='white', size=11)\n",
        "\n",
        "plt.show()"
      ]
    },
    {
      "cell_type": "code",
      "execution_count": null,
      "id": "dcd32b3a",
      "metadata": {
        "id": "dcd32b3a"
      },
      "outputs": [],
      "source": []
    },
    {
      "cell_type": "code",
      "execution_count": null,
      "id": "0aae49f0",
      "metadata": {
        "id": "0aae49f0"
      },
      "outputs": [],
      "source": []
    },
    {
      "cell_type": "code",
      "source": [],
      "metadata": {
        "id": "Os2yXz2BmHG5"
      },
      "id": "Os2yXz2BmHG5",
      "execution_count": null,
      "outputs": []
    },
    {
      "cell_type": "markdown",
      "source": [
        "# LSTM (Deep Learning)"
      ],
      "metadata": {
        "id": "285uh1tcmHzP"
      },
      "id": "285uh1tcmHzP"
    },
    {
      "cell_type": "code",
      "source": [
        "all_text=train_data['stopword'].to_numpy()"
      ],
      "metadata": {
        "id": "FSBMoA5f8DAj"
      },
      "id": "FSBMoA5f8DAj",
      "execution_count": 31,
      "outputs": []
    },
    {
      "cell_type": "code",
      "source": [
        "all_cleaned_text = np.array([text for text in all_text])"
      ],
      "metadata": {
        "id": "hyYZQQFPzyjv"
      },
      "id": "hyYZQQFPzyjv",
      "execution_count": 32,
      "outputs": []
    },
    {
      "cell_type": "code",
      "source": [
        "tokenizer = Tokenizer()\n",
        "tokenizer.fit_on_texts(all_cleaned_text)"
      ],
      "metadata": {
        "id": "E05j_J60zynt"
      },
      "id": "E05j_J60zynt",
      "execution_count": 33,
      "outputs": []
    },
    {
      "cell_type": "code",
      "source": [
        "all_encoded_texts = np.array(tokenizer.texts_to_sequences(all_cleaned_text))"
      ],
      "metadata": {
        "id": "Z_MQ9fi-zyqb"
      },
      "id": "Z_MQ9fi-zyqb",
      "execution_count": 34,
      "outputs": []
    },
    {
      "cell_type": "code",
      "source": [
        "all_encoded_texts = pad_sequences(all_encoded_texts, maxlen=600)"
      ],
      "metadata": {
        "id": "qxgAnepYzytU"
      },
      "id": "qxgAnepYzytU",
      "execution_count": 35,
      "outputs": []
    },
    {
      "cell_type": "code",
      "source": [
        "all_encoded_texts.shape"
      ],
      "metadata": {
        "colab": {
          "base_uri": "https://localhost:8080/"
        },
        "id": "NVtIO65NOJXL",
        "outputId": "85734768-9f22-475b-878c-5833dd89e17a"
      },
      "id": "NVtIO65NOJXL",
      "execution_count": 36,
      "outputs": [
        {
          "output_type": "execute_result",
          "data": {
            "text/plain": [
              "(19789, 600)"
            ]
          },
          "metadata": {},
          "execution_count": 36
        }
      ]
    },
    {
      "cell_type": "code",
      "source": [
        "total_labels = len(train_data['label'].unique())\n",
        "total_labels"
      ],
      "metadata": {
        "colab": {
          "base_uri": "https://localhost:8080/"
        },
        "id": "k_MUAqEkzyv2",
        "outputId": "c5928e65-84f8-41ab-c125-c029086121f4"
      },
      "id": "k_MUAqEkzyv2",
      "execution_count": 37,
      "outputs": [
        {
          "output_type": "execute_result",
          "data": {
            "text/plain": [
              "2"
            ]
          },
          "metadata": {},
          "execution_count": 37
        }
      ]
    },
    {
      "cell_type": "code",
      "source": [
        "all_labels = np.array(train_data['label'])[:, np.newaxis]"
      ],
      "metadata": {
        "id": "7Lk0b6bQsVAa"
      },
      "id": "7Lk0b6bQsVAa",
      "execution_count": 38,
      "outputs": []
    },
    {
      "cell_type": "code",
      "source": [
        "ohe = OneHotEncoder(sparse=False)\n",
        "all_labels = ohe.fit_transform(all_labels)"
      ],
      "metadata": {
        "id": "eTk6STwYsVC5"
      },
      "id": "eTk6STwYsVC5",
      "execution_count": 39,
      "outputs": []
    },
    {
      "cell_type": "code",
      "source": [
        "x_train, x_test, y_train, y_test = train_test_split(all_encoded_texts, all_labels, test_size=0.1, random_state=5,\n",
        "                                                    stratify=all_labels)"
      ],
      "metadata": {
        "id": "ppBGiwiLsVFz"
      },
      "id": "ppBGiwiLsVFz",
      "execution_count": 40,
      "outputs": []
    },
    {
      "cell_type": "code",
      "source": [
        "x_train.shape"
      ],
      "metadata": {
        "colab": {
          "base_uri": "https://localhost:8080/"
        },
        "id": "zcmOWDAmsVIz",
        "outputId": "c83b1818-6d64-40bd-a9b1-24f8e163259e"
      },
      "id": "zcmOWDAmsVIz",
      "execution_count": 41,
      "outputs": [
        {
          "output_type": "execute_result",
          "data": {
            "text/plain": [
              "(17810, 600)"
            ]
          },
          "metadata": {},
          "execution_count": 41
        }
      ]
    },
    {
      "cell_type": "code",
      "source": [
        "model = Sequential()\n",
        "model.add(Embedding(input_dim=len(tokenizer.word_index)+1, output_dim=200, input_length=600))\n",
        "model.add(LSTM(125, dropout=0.25))\n",
        "model.add(Dense(total_labels, activation='sigmoid'))\n",
        "model.compile(loss='categorical_crossentropy', optimizer='adam', metrics=['AUC'])"
      ],
      "metadata": {
        "id": "ZnRC1Qmh8YID"
      },
      "id": "ZnRC1Qmh8YID",
      "execution_count": 42,
      "outputs": []
    },
    {
      "cell_type": "code",
      "source": [
        "history = model.fit(x_train, y_train, epochs=3, batch_size=32, validation_split=0.2)"
      ],
      "metadata": {
        "colab": {
          "base_uri": "https://localhost:8080/"
        },
        "id": "Oj8JrDBzzyyN",
        "outputId": "07d0ba60-e8ce-4e1a-b798-b87be2d1c124"
      },
      "id": "Oj8JrDBzzyyN",
      "execution_count": 43,
      "outputs": [
        {
          "output_type": "stream",
          "name": "stdout",
          "text": [
            "Epoch 1/3\n",
            "446/446 [==============================] - 1073s 2s/step - loss: 0.1197 - auc: 0.9909 - val_loss: 0.1007 - val_auc: 0.9938\n",
            "Epoch 2/3\n",
            "446/446 [==============================] - 1042s 2s/step - loss: 0.0338 - auc: 0.9992 - val_loss: 0.1328 - val_auc: 0.9931\n",
            "Epoch 3/3\n",
            "446/446 [==============================] - 1010s 2s/step - loss: 0.0060 - auc: 1.0000 - val_loss: 0.1854 - val_auc: 0.9921\n"
          ]
        }
      ]
    },
    {
      "cell_type": "code",
      "source": [
        "scores_test = model.evaluate(x_test, y_test, verbose=0)\n",
        "scores_train = model.evaluate(x_train, y_train, verbose=0)"
      ],
      "metadata": {
        "id": "1Sa-BvDRcnbs"
      },
      "id": "1Sa-BvDRcnbs",
      "execution_count": 44,
      "outputs": []
    },
    {
      "cell_type": "code",
      "source": [
        "print(\"AUC Test: %.2f%%\" % (scores_test[1]*100))\n",
        "print(\"AUC Train: %.2f%%\" % (scores_train[1]*100))"
      ],
      "metadata": {
        "colab": {
          "base_uri": "https://localhost:8080/"
        },
        "id": "cfFXo7iYcneQ",
        "outputId": "0b7306b5-2001-4877-ca59-95c3ef12c86b"
      },
      "id": "cfFXo7iYcneQ",
      "execution_count": 45,
      "outputs": [
        {
          "output_type": "stream",
          "name": "stdout",
          "text": [
            "AUC Test: 99.22%\n",
            "AUC Train: 99.93%\n"
          ]
        }
      ]
    },
    {
      "cell_type": "code",
      "source": [
        "y_pred = model.predict(x_test)\n",
        "y_pred_train = model.predict(x_train)"
      ],
      "metadata": {
        "colab": {
          "base_uri": "https://localhost:8080/"
        },
        "id": "9h_XjOVncnhH",
        "outputId": "f96994f1-aeaa-4136-c034-d9966f30b2fd"
      },
      "id": "9h_XjOVncnhH",
      "execution_count": 46,
      "outputs": [
        {
          "output_type": "stream",
          "name": "stdout",
          "text": [
            "62/62 [==============================] - 25s 383ms/step\n",
            "557/557 [==============================] - 216s 389ms/step\n"
          ]
        }
      ]
    },
    {
      "cell_type": "code",
      "source": [
        "y_test_class = np.argmax(y_test, axis=1)\n",
        "y_pred_test = np.argmax(y_pred, axis=1)\n",
        "\n",
        "y_train_class = np.argmax(y_train, axis=1)\n",
        "y_pred_train = np.argmax(y_pred_train, axis=1)"
      ],
      "metadata": {
        "id": "k9pqkIRFfe8r"
      },
      "id": "k9pqkIRFfe8r",
      "execution_count": 47,
      "outputs": []
    },
    {
      "cell_type": "code",
      "source": [
        "print(confusion_matrix(y_test_class, y_pred_test))\n",
        "print(\"Akurasi Testing dari LSTM adalah: %.2f\" % (accuracy_score(y_test_class, y_pred_test)*100) )\n",
        "print(\"Recall Testing dari LSTM adalah:\",recall_score(y_test_class, y_pred_test)*100)\n",
        "print(\"Precision Testing dari LSTM adalah:\",precision_score(y_test_class, y_pred_test)*100)\n",
        "print(\"F1 Testing dari  LSTM adalah:\",f1_score(y_test_class, y_pred_test)*100)"
      ],
      "metadata": {
        "colab": {
          "base_uri": "https://localhost:8080/"
        },
        "id": "SIyB1o5Kcnjk",
        "outputId": "c920c49d-ebe2-42d3-c12b-c7f0953984bf"
      },
      "id": "SIyB1o5Kcnjk",
      "execution_count": 48,
      "outputs": [
        {
          "output_type": "stream",
          "name": "stdout",
          "text": [
            "[[971  57]\n",
            " [ 26 925]]\n",
            "Akurasi Testing dari LSTM adalah: 95.81\n",
            "Recall Testing dari LSTM adalah: 97.26603575184016\n",
            "Precision Testing dari LSTM adalah: 94.19551934826885\n",
            "F1 Testing dari  LSTM adalah: 95.70615623383341\n"
          ]
        }
      ]
    },
    {
      "cell_type": "code",
      "source": [
        "print(confusion_matrix(y_train_class, y_pred_train))\n",
        "print(\"Akurasi Training dari LSTM adalah: %.2f\" % (accuracy_score(y_train_class, y_pred_train)*100) )\n",
        "print(\"Recall Training dari LSTM adalah:\",recall_score(y_train_class, y_pred_train)*100)\n",
        "print(\"Precision Training dari LSTM adalah:\",precision_score(y_train_class, y_pred_train)*100)\n",
        "print(\"F1 Training dari LSTM adalah:\",f1_score(y_train_class, y_pred_train)*100)"
      ],
      "metadata": {
        "colab": {
          "base_uri": "https://localhost:8080/"
        },
        "id": "RHaboRNOcnmj",
        "outputId": "04f580d0-78af-4cb0-eefd-c09fc054614c"
      },
      "id": "RHaboRNOcnmj",
      "execution_count": 49,
      "outputs": [
        {
          "output_type": "stream",
          "name": "stdout",
          "text": [
            "[[9137  113]\n",
            " [  40 8520]]\n",
            "Akurasi Training dari LSTM adalah: 99.14\n",
            "Recall Training dari LSTM adalah: 99.53271028037383\n",
            "Precision Training dari LSTM adalah: 98.69106915324916\n",
            "F1 Training dari LSTM adalah: 99.11010294887454\n"
          ]
        }
      ]
    },
    {
      "cell_type": "code",
      "source": [
        "training_acc = accuracy_score(y_train_class, y_pred_train)\n",
        "testing_acc = accuracy_score(y_test_class, y_pred_test)\n",
        "\n",
        "print(\"Classification Report Testing\")\n",
        "print(classification_report(y_test_class, y_pred_test))"
      ],
      "metadata": {
        "colab": {
          "base_uri": "https://localhost:8080/"
        },
        "id": "6Chotzt6cnqP",
        "outputId": "e2ba3d93-1a11-4c17-bf70-cb05ad83b883"
      },
      "id": "6Chotzt6cnqP",
      "execution_count": 50,
      "outputs": [
        {
          "output_type": "stream",
          "name": "stdout",
          "text": [
            "Classification Report Testing\n",
            "              precision    recall  f1-score   support\n",
            "\n",
            "           0       0.97      0.94      0.96      1028\n",
            "           1       0.94      0.97      0.96       951\n",
            "\n",
            "    accuracy                           0.96      1979\n",
            "   macro avg       0.96      0.96      0.96      1979\n",
            "weighted avg       0.96      0.96      0.96      1979\n",
            "\n"
          ]
        }
      ]
    },
    {
      "cell_type": "code",
      "source": [
        "training_acc = accuracy_score(y_train_class, y_pred_train)\n",
        "testing_acc = accuracy_score(y_test_class, y_pred_test)\n",
        "\n",
        "print(\"Classification Report Training\")\n",
        "print(classification_report(y_train_class, y_pred_train))"
      ],
      "metadata": {
        "colab": {
          "base_uri": "https://localhost:8080/"
        },
        "id": "Zs-1kR2Ng4dy",
        "outputId": "18682554-6bcc-4dc6-d2e7-ea3e896f057d"
      },
      "id": "Zs-1kR2Ng4dy",
      "execution_count": 51,
      "outputs": [
        {
          "output_type": "stream",
          "name": "stdout",
          "text": [
            "Classification Report Training\n",
            "              precision    recall  f1-score   support\n",
            "\n",
            "           0       1.00      0.99      0.99      9250\n",
            "           1       0.99      1.00      0.99      8560\n",
            "\n",
            "    accuracy                           0.99     17810\n",
            "   macro avg       0.99      0.99      0.99     17810\n",
            "weighted avg       0.99      0.99      0.99     17810\n",
            "\n"
          ]
        }
      ]
    },
    {
      "cell_type": "code",
      "source": [],
      "metadata": {
        "id": "0KmL7dA_g4gL"
      },
      "id": "0KmL7dA_g4gL",
      "execution_count": 51,
      "outputs": []
    },
    {
      "cell_type": "code",
      "source": [],
      "metadata": {
        "id": "23crPtUzg4ij"
      },
      "id": "23crPtUzg4ij",
      "execution_count": null,
      "outputs": []
    }
  ],
  "metadata": {
    "kernelspec": {
      "display_name": "Python 3 (ipykernel)",
      "language": "python",
      "name": "python3"
    },
    "language_info": {
      "codemirror_mode": {
        "name": "ipython",
        "version": 3
      },
      "file_extension": ".py",
      "mimetype": "text/x-python",
      "name": "python",
      "nbconvert_exporter": "python",
      "pygments_lexer": "ipython3",
      "version": "3.9.12"
    },
    "colab": {
      "provenance": []
    }
  },
  "nbformat": 4,
  "nbformat_minor": 5
}